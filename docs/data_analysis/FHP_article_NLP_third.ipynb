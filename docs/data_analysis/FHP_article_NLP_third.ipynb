{
 "cells": [
  {
   "cell_type": "markdown",
   "id": "6f5eb7d6-b69b-4e16-add0-a33010f560f7",
   "metadata": {},
   "source": [
    "## 데이터 불러오기"
   ]
  },
  {
   "cell_type": "code",
   "execution_count": 1,
   "id": "380081fe-b69c-4278-9934-ce279c47c9f0",
   "metadata": {},
   "outputs": [
    {
     "name": "stdout",
     "output_type": "stream",
     "text": [
      "Requirement already satisfied: openpyxl in /usr/local/lib/python3.11/site-packages (3.1.2)\n",
      "Requirement already satisfied: et-xmlfile in /usr/local/lib/python3.11/site-packages (from openpyxl) (1.1.0)\n",
      "\u001b[33mWARNING: Running pip as the 'root' user can result in broken permissions and conflicting behaviour with the system package manager. It is recommended to use a virtual environment instead: https://pip.pypa.io/warnings/venv\u001b[0m\u001b[33m\n",
      "\u001b[0mNote: you may need to restart the kernel to use updated packages.\n"
     ]
    }
   ],
   "source": [
    "pip install openpyxl"
   ]
  },
  {
   "cell_type": "code",
   "execution_count": 2,
   "id": "ac6ca6a0-8449-4cbc-b85f-f1ab2f268a1d",
   "metadata": {},
   "outputs": [
    {
     "name": "stdout",
     "output_type": "stream",
     "text": [
      "Requirement already satisfied: nltk in /usr/local/lib/python3.11/site-packages (3.8.1)\n",
      "Requirement already satisfied: click in /usr/local/lib/python3.11/site-packages (from nltk) (8.1.7)\n",
      "Requirement already satisfied: joblib in /usr/local/lib/python3.11/site-packages (from nltk) (1.3.2)\n",
      "Requirement already satisfied: regex>=2021.8.3 in /usr/local/lib/python3.11/site-packages (from nltk) (2023.12.25)\n",
      "Requirement already satisfied: tqdm in /usr/local/lib/python3.11/site-packages (from nltk) (4.66.2)\n",
      "\u001b[33mWARNING: Running pip as the 'root' user can result in broken permissions and conflicting behaviour with the system package manager. It is recommended to use a virtual environment instead: https://pip.pypa.io/warnings/venv\u001b[0m\u001b[33m\n",
      "\u001b[0mNote: you may need to restart the kernel to use updated packages.\n"
     ]
    }
   ],
   "source": [
    "pip install nltk"
   ]
  },
  {
   "cell_type": "code",
   "execution_count": 3,
   "id": "ccbb4d36-ab7e-4aa7-adc9-64209b579567",
   "metadata": {
    "scrolled": true
   },
   "outputs": [],
   "source": [
    "# pip install sentence_transformers"
   ]
  },
  {
   "cell_type": "code",
   "execution_count": 4,
   "id": "ee05c03f-2aba-4510-8596-d4b9e9ff9a05",
   "metadata": {},
   "outputs": [],
   "source": [
    "# pip install textblob"
   ]
  },
  {
   "cell_type": "code",
   "execution_count": 5,
   "id": "b5a8f61d-29d6-4842-b5e5-4cc9684903ee",
   "metadata": {},
   "outputs": [
    {
     "name": "stderr",
     "output_type": "stream",
     "text": [
      "[nltk_data] Downloading package averaged_perceptron_tagger to\n",
      "[nltk_data]     /root/nltk_data...\n",
      "[nltk_data]   Package averaged_perceptron_tagger is already up-to-\n",
      "[nltk_data]       date!\n",
      "[nltk_data] Downloading package punkt to /root/nltk_data...\n",
      "[nltk_data]   Package punkt is already up-to-date!\n",
      "[nltk_data] Downloading package wordnet to /root/nltk_data...\n",
      "[nltk_data]   Package wordnet is already up-to-date!\n",
      "[nltk_data] Downloading package omw-1.4 to /root/nltk_data...\n",
      "[nltk_data]   Package omw-1.4 is already up-to-date!\n"
     ]
    },
    {
     "data": {
      "text/html": [
       "<div>\n",
       "<style scoped>\n",
       "    .dataframe tbody tr th:only-of-type {\n",
       "        vertical-align: middle;\n",
       "    }\n",
       "\n",
       "    .dataframe tbody tr th {\n",
       "        vertical-align: top;\n",
       "    }\n",
       "\n",
       "    .dataframe thead th {\n",
       "        text-align: right;\n",
       "    }\n",
       "</style>\n",
       "<table border=\"1\" class=\"dataframe\">\n",
       "  <thead>\n",
       "    <tr style=\"text-align: right;\">\n",
       "      <th></th>\n",
       "      <th>title</th>\n",
       "      <th>artical_date</th>\n",
       "      <th>abstract_list</th>\n",
       "    </tr>\n",
       "  </thead>\n",
       "  <tbody>\n",
       "    <tr>\n",
       "      <th>0</th>\n",
       "      <td>Influence of forward head posture on muscle ac...</td>\n",
       "      <td>Published online 2022 Nov 14.</td>\n",
       "      <td>Go to:\\nAbstract\\nForward head posture (FHP) i...</td>\n",
       "    </tr>\n",
       "    <tr>\n",
       "      <th>1</th>\n",
       "      <td>Relative posture between head and finger deter...</td>\n",
       "      <td>Published online 2020 Mar 26.</td>\n",
       "      <td>Go to:\\nAbstract\\nThe hand explores the enviro...</td>\n",
       "    </tr>\n",
       "    <tr>\n",
       "      <th>2</th>\n",
       "      <td>Head posture impacts mammalian hyoid position ...</td>\n",
       "      <td>Published online October 16, 2023.</td>\n",
       "      <td>Go to:\\nABSTRACT\\nInstantaneous head posture (...</td>\n",
       "    </tr>\n",
       "    <tr>\n",
       "      <th>3</th>\n",
       "      <td>Does head and cervical posture correlate to ma...</td>\n",
       "      <td>Published online 2022 Oct 25.</td>\n",
       "      <td>Go to:\\nAbstract\\nBackground\\nThe association ...</td>\n",
       "    </tr>\n",
       "    <tr>\n",
       "      <th>4</th>\n",
       "      <td>Changes in deep neck muscle length from the ne...</td>\n",
       "      <td>Published online 2022 Jan 25.</td>\n",
       "      <td>Go to:\\nAbstract\\nForward head posture (FHP) i...</td>\n",
       "    </tr>\n",
       "    <tr>\n",
       "      <th>...</th>\n",
       "      <td>...</td>\n",
       "      <td>...</td>\n",
       "      <td>...</td>\n",
       "    </tr>\n",
       "    <tr>\n",
       "      <th>2878</th>\n",
       "      <td>Characteristics of the postural stability of t...</td>\n",
       "      <td>Published online 2023 Jan 4.</td>\n",
       "      <td>Go to:\\nAbstract\\nObjective: To explore the ch...</td>\n",
       "    </tr>\n",
       "    <tr>\n",
       "      <th>2879</th>\n",
       "      <td>Validating an infrared thermal switch as a nov...</td>\n",
       "      <td>Published online 2010 Aug 5.</td>\n",
       "      <td>Go to:\\nAbstract\\nBackground\\nRecently, a nove...</td>\n",
       "    </tr>\n",
       "    <tr>\n",
       "      <th>2880</th>\n",
       "      <td>How Not to Be Turned into a Zombie</td>\n",
       "      <td>Published online 2018 Oct 31.</td>\n",
       "      <td>Go to:\\nAbstract\\nThe emerald jewel wasp (Ampu...</td>\n",
       "    </tr>\n",
       "    <tr>\n",
       "      <th>2881</th>\n",
       "      <td>Chronic Cervicogenic Tinnitus Rapidly Resolved...</td>\n",
       "      <td>Published online 2016 Mar 23.</td>\n",
       "      <td>Go to:\\nAbstract\\nIntroduction\\nCervicogenic t...</td>\n",
       "    </tr>\n",
       "    <tr>\n",
       "      <th>2882</th>\n",
       "      <td>Static antennae act as locomotory guides that ...</td>\n",
       "      <td></td>\n",
       "      <td>Go to:\\nAbstract\\nHigh visual acuity allows pa...</td>\n",
       "    </tr>\n",
       "  </tbody>\n",
       "</table>\n",
       "<p>2883 rows × 3 columns</p>\n",
       "</div>"
      ],
      "text/plain": [
       "                                                  title  \\\n",
       "0     Influence of forward head posture on muscle ac...   \n",
       "1     Relative posture between head and finger deter...   \n",
       "2     Head posture impacts mammalian hyoid position ...   \n",
       "3     Does head and cervical posture correlate to ma...   \n",
       "4     Changes in deep neck muscle length from the ne...   \n",
       "...                                                 ...   \n",
       "2878  Characteristics of the postural stability of t...   \n",
       "2879  Validating an infrared thermal switch as a nov...   \n",
       "2880                 How Not to Be Turned into a Zombie   \n",
       "2881  Chronic Cervicogenic Tinnitus Rapidly Resolved...   \n",
       "2882  Static antennae act as locomotory guides that ...   \n",
       "\n",
       "                            artical_date  \\\n",
       "0          Published online 2022 Nov 14.   \n",
       "1          Published online 2020 Mar 26.   \n",
       "2     Published online October 16, 2023.   \n",
       "3          Published online 2022 Oct 25.   \n",
       "4          Published online 2022 Jan 25.   \n",
       "...                                  ...   \n",
       "2878        Published online 2023 Jan 4.   \n",
       "2879        Published online 2010 Aug 5.   \n",
       "2880       Published online 2018 Oct 31.   \n",
       "2881       Published online 2016 Mar 23.   \n",
       "2882                                       \n",
       "\n",
       "                                          abstract_list  \n",
       "0     Go to:\\nAbstract\\nForward head posture (FHP) i...  \n",
       "1     Go to:\\nAbstract\\nThe hand explores the enviro...  \n",
       "2     Go to:\\nABSTRACT\\nInstantaneous head posture (...  \n",
       "3     Go to:\\nAbstract\\nBackground\\nThe association ...  \n",
       "4     Go to:\\nAbstract\\nForward head posture (FHP) i...  \n",
       "...                                                 ...  \n",
       "2878  Go to:\\nAbstract\\nObjective: To explore the ch...  \n",
       "2879  Go to:\\nAbstract\\nBackground\\nRecently, a nove...  \n",
       "2880  Go to:\\nAbstract\\nThe emerald jewel wasp (Ampu...  \n",
       "2881  Go to:\\nAbstract\\nIntroduction\\nCervicogenic t...  \n",
       "2882  Go to:\\nAbstract\\nHigh visual acuity allows pa...  \n",
       "\n",
       "[2883 rows x 3 columns]"
      ]
     },
     "execution_count": 5,
     "metadata": {},
     "output_type": "execute_result"
    }
   ],
   "source": [
    "import pandas as pd\n",
    "import pymongo\n",
    "import seaborn as sns\n",
    "import numpy as np\n",
    "import matplotlib.pyplot as plt\n",
    "import matplotlib as mpl\n",
    "import sklearn\n",
    "mpl.rc('font', family='NanumBarunGothic') # 혹은 다른 설치한 Nanum 폰트 사용\n",
    "\n",
    "import nltk\n",
    "from nltk.tokenize import RegexpTokenizer       \n",
    "from nltk.stem.wordnet import WordNetLemmatizer\n",
    "nltk.download('averaged_perceptron_tagger') \n",
    "nltk.download('punkt')\n",
    "nltk.download(\"wordnet\")\n",
    "nltk.download(\"omw-1.4\") \n",
    "\n",
    "client=pymongo.MongoClient(\"192.168.10.240\",27017)\n",
    "db= client['healthcare_sideproject']\n",
    "FHP_article = db['PMC_FHP_data']\n",
    "FHP_article = FHP_article.find()\n",
    "FHP_article = pd.DataFrame(FHP_article)\n",
    "FHP_article = FHP_article.loc[:,'title':]\n",
    "FHP_article"
   ]
  },
  {
   "cell_type": "markdown",
   "id": "4acc9e1c-ed82-46c4-b6e3-9a36584f14ff",
   "metadata": {},
   "source": [
    "## 데이터 전처리"
   ]
  },
  {
   "cell_type": "markdown",
   "id": "2eb53e91-65e0-4de7-b899-6ecc010fe710",
   "metadata": {},
   "source": [
    "### 결측치 처리 \n",
    "- abstract가 없는 값은 제목으로 대체"
   ]
  },
  {
   "cell_type": "code",
   "execution_count": 6,
   "id": "a4557ae0-5a06-481c-a36f-44eab277f106",
   "metadata": {},
   "outputs": [
    {
     "data": {
      "text/plain": [
       "title            219\n",
       "artical_date     219\n",
       "abstract_list    219\n",
       "dtype: int64"
      ]
     },
     "execution_count": 6,
     "metadata": {},
     "output_type": "execute_result"
    }
   ],
   "source": [
    "FHP_article.query(\"abstract_list==''\").count()"
   ]
  },
  {
   "cell_type": "code",
   "execution_count": 7,
   "id": "aff67b1b-4b33-40b7-a5b6-5643d210a17b",
   "metadata": {},
   "outputs": [],
   "source": [
    "FHP_article.loc[FHP_article.query(\"abstract_list==''\").index,'abstract_list'] = FHP_article.loc[FHP_article.query(\"abstract_list==''\").index,'title']"
   ]
  },
  {
   "cell_type": "code",
   "execution_count": 8,
   "id": "996be2a0-a474-4e02-800f-ac2906221d4a",
   "metadata": {},
   "outputs": [
    {
     "data": {
      "text/html": [
       "<div>\n",
       "<style scoped>\n",
       "    .dataframe tbody tr th:only-of-type {\n",
       "        vertical-align: middle;\n",
       "    }\n",
       "\n",
       "    .dataframe tbody tr th {\n",
       "        vertical-align: top;\n",
       "    }\n",
       "\n",
       "    .dataframe thead th {\n",
       "        text-align: right;\n",
       "    }\n",
       "</style>\n",
       "<table border=\"1\" class=\"dataframe\">\n",
       "  <thead>\n",
       "    <tr style=\"text-align: right;\">\n",
       "      <th></th>\n",
       "      <th>title</th>\n",
       "      <th>artical_date</th>\n",
       "      <th>abstract_list</th>\n",
       "    </tr>\n",
       "  </thead>\n",
       "  <tbody>\n",
       "  </tbody>\n",
       "</table>\n",
       "</div>"
      ],
      "text/plain": [
       "Empty DataFrame\n",
       "Columns: [title, artical_date, abstract_list]\n",
       "Index: []"
      ]
     },
     "execution_count": 8,
     "metadata": {},
     "output_type": "execute_result"
    }
   ],
   "source": [
    "FHP_article.query(\"abstract_list==''\")"
   ]
  },
  {
   "cell_type": "markdown",
   "id": "7dbb8995-b4ac-499e-8169-8058a1d65006",
   "metadata": {},
   "source": [
    "### 중복값 제거"
   ]
  },
  {
   "cell_type": "code",
   "execution_count": 9,
   "id": "c5e55824-e9fc-474d-9d44-8e7693c21394",
   "metadata": {},
   "outputs": [
    {
     "data": {
      "text/plain": [
       "3"
      ]
     },
     "execution_count": 9,
     "metadata": {},
     "output_type": "execute_result"
    }
   ],
   "source": [
    "FHP_article.duplicated(subset='title').sum()"
   ]
  },
  {
   "cell_type": "code",
   "execution_count": 10,
   "id": "cf2d903a-e454-4b78-8cc8-6364f5a0cf91",
   "metadata": {},
   "outputs": [],
   "source": [
    "FHP_article = FHP_article.drop_duplicates(subset='title', keep='first', inplace=False, ignore_index=False)"
   ]
  },
  {
   "cell_type": "markdown",
   "id": "a28aec45-fee4-467b-9101-f85b20976fcb",
   "metadata": {},
   "source": [
    "### 발행일 변환"
   ]
  },
  {
   "cell_type": "code",
   "execution_count": 63,
   "id": "05bcef80-5b74-4929-b6e7-8483f2d5af53",
   "metadata": {},
   "outputs": [],
   "source": [
    "def date_format(raw):\n",
    "    raw = raw.replace(\"Published online\",\"\")\n",
    "    return raw"
   ]
  },
  {
   "cell_type": "code",
   "execution_count": 12,
   "id": "32209220-cfa5-489b-be07-7905b369a4f9",
   "metadata": {},
   "outputs": [],
   "source": [
    "FHP_article.loc[:,'artical_date']=FHP_article['artical_date'].apply(date_format)\n"
   ]
  },
  {
   "cell_type": "code",
   "execution_count": 13,
   "id": "0dd6e19a-ae79-44d6-908f-ddcd4ef8ccca",
   "metadata": {},
   "outputs": [
    {
     "data": {
      "text/html": [
       "<div>\n",
       "<style scoped>\n",
       "    .dataframe tbody tr th:only-of-type {\n",
       "        vertical-align: middle;\n",
       "    }\n",
       "\n",
       "    .dataframe tbody tr th {\n",
       "        vertical-align: top;\n",
       "    }\n",
       "\n",
       "    .dataframe thead th {\n",
       "        text-align: right;\n",
       "    }\n",
       "</style>\n",
       "<table border=\"1\" class=\"dataframe\">\n",
       "  <thead>\n",
       "    <tr style=\"text-align: right;\">\n",
       "      <th></th>\n",
       "      <th>title</th>\n",
       "      <th>artical_date</th>\n",
       "      <th>abstract_list</th>\n",
       "    </tr>\n",
       "  </thead>\n",
       "  <tbody>\n",
       "    <tr>\n",
       "      <th>0</th>\n",
       "      <td>Influence of forward head posture on muscle ac...</td>\n",
       "      <td>2022 Nov 14.</td>\n",
       "      <td>Go to:\\nAbstract\\nForward head posture (FHP) i...</td>\n",
       "    </tr>\n",
       "    <tr>\n",
       "      <th>1</th>\n",
       "      <td>Relative posture between head and finger deter...</td>\n",
       "      <td>2020 Mar 26.</td>\n",
       "      <td>Go to:\\nAbstract\\nThe hand explores the enviro...</td>\n",
       "    </tr>\n",
       "    <tr>\n",
       "      <th>2</th>\n",
       "      <td>Head posture impacts mammalian hyoid position ...</td>\n",
       "      <td>October 16, 2023.</td>\n",
       "      <td>Go to:\\nABSTRACT\\nInstantaneous head posture (...</td>\n",
       "    </tr>\n",
       "    <tr>\n",
       "      <th>3</th>\n",
       "      <td>Does head and cervical posture correlate to ma...</td>\n",
       "      <td>2022 Oct 25.</td>\n",
       "      <td>Go to:\\nAbstract\\nBackground\\nThe association ...</td>\n",
       "    </tr>\n",
       "    <tr>\n",
       "      <th>4</th>\n",
       "      <td>Changes in deep neck muscle length from the ne...</td>\n",
       "      <td>2022 Jan 25.</td>\n",
       "      <td>Go to:\\nAbstract\\nForward head posture (FHP) i...</td>\n",
       "    </tr>\n",
       "    <tr>\n",
       "      <th>...</th>\n",
       "      <td>...</td>\n",
       "      <td>...</td>\n",
       "      <td>...</td>\n",
       "    </tr>\n",
       "    <tr>\n",
       "      <th>2878</th>\n",
       "      <td>Characteristics of the postural stability of t...</td>\n",
       "      <td>2023 Jan 4.</td>\n",
       "      <td>Go to:\\nAbstract\\nObjective: To explore the ch...</td>\n",
       "    </tr>\n",
       "    <tr>\n",
       "      <th>2879</th>\n",
       "      <td>Validating an infrared thermal switch as a nov...</td>\n",
       "      <td>2010 Aug 5.</td>\n",
       "      <td>Go to:\\nAbstract\\nBackground\\nRecently, a nove...</td>\n",
       "    </tr>\n",
       "    <tr>\n",
       "      <th>2880</th>\n",
       "      <td>How Not to Be Turned into a Zombie</td>\n",
       "      <td>2018 Oct 31.</td>\n",
       "      <td>Go to:\\nAbstract\\nThe emerald jewel wasp (Ampu...</td>\n",
       "    </tr>\n",
       "    <tr>\n",
       "      <th>2881</th>\n",
       "      <td>Chronic Cervicogenic Tinnitus Rapidly Resolved...</td>\n",
       "      <td>2016 Mar 23.</td>\n",
       "      <td>Go to:\\nAbstract\\nIntroduction\\nCervicogenic t...</td>\n",
       "    </tr>\n",
       "    <tr>\n",
       "      <th>2882</th>\n",
       "      <td>Static antennae act as locomotory guides that ...</td>\n",
       "      <td></td>\n",
       "      <td>Go to:\\nAbstract\\nHigh visual acuity allows pa...</td>\n",
       "    </tr>\n",
       "  </tbody>\n",
       "</table>\n",
       "<p>2880 rows × 3 columns</p>\n",
       "</div>"
      ],
      "text/plain": [
       "                                                  title        artical_date  \\\n",
       "0     Influence of forward head posture on muscle ac...        2022 Nov 14.   \n",
       "1     Relative posture between head and finger deter...        2020 Mar 26.   \n",
       "2     Head posture impacts mammalian hyoid position ...   October 16, 2023.   \n",
       "3     Does head and cervical posture correlate to ma...        2022 Oct 25.   \n",
       "4     Changes in deep neck muscle length from the ne...        2022 Jan 25.   \n",
       "...                                                 ...                 ...   \n",
       "2878  Characteristics of the postural stability of t...         2023 Jan 4.   \n",
       "2879  Validating an infrared thermal switch as a nov...         2010 Aug 5.   \n",
       "2880                 How Not to Be Turned into a Zombie        2018 Oct 31.   \n",
       "2881  Chronic Cervicogenic Tinnitus Rapidly Resolved...        2016 Mar 23.   \n",
       "2882  Static antennae act as locomotory guides that ...                       \n",
       "\n",
       "                                          abstract_list  \n",
       "0     Go to:\\nAbstract\\nForward head posture (FHP) i...  \n",
       "1     Go to:\\nAbstract\\nThe hand explores the enviro...  \n",
       "2     Go to:\\nABSTRACT\\nInstantaneous head posture (...  \n",
       "3     Go to:\\nAbstract\\nBackground\\nThe association ...  \n",
       "4     Go to:\\nAbstract\\nForward head posture (FHP) i...  \n",
       "...                                                 ...  \n",
       "2878  Go to:\\nAbstract\\nObjective: To explore the ch...  \n",
       "2879  Go to:\\nAbstract\\nBackground\\nRecently, a nove...  \n",
       "2880  Go to:\\nAbstract\\nThe emerald jewel wasp (Ampu...  \n",
       "2881  Go to:\\nAbstract\\nIntroduction\\nCervicogenic t...  \n",
       "2882  Go to:\\nAbstract\\nHigh visual acuity allows pa...  \n",
       "\n",
       "[2880 rows x 3 columns]"
      ]
     },
     "execution_count": 13,
     "metadata": {},
     "output_type": "execute_result"
    }
   ],
   "source": [
    "FHP_article"
   ]
  },
  {
   "cell_type": "markdown",
   "id": "219cdf23-ee25-46c8-b5f1-501315581819",
   "metadata": {},
   "source": [
    "### 정규화 : 대소문자 통합"
   ]
  },
  {
   "cell_type": "code",
   "execution_count": 14,
   "id": "b90d4ff2-1b77-4c2b-8121-9042b0ed3d64",
   "metadata": {},
   "outputs": [],
   "source": [
    "def word_lower(raw):\n",
    "    abstract_list = raw.split()\n",
    "    modified_list = []\n",
    "    for abstract_word in abstract_list :\n",
    "         modified_list.append(abstract_word.lower())\n",
    "    return \" \".join(modified_list)"
   ]
  },
  {
   "cell_type": "code",
   "execution_count": 15,
   "id": "2d7ff6df-f1c9-4051-9394-316783c12b01",
   "metadata": {},
   "outputs": [
    {
     "name": "stderr",
     "output_type": "stream",
     "text": [
      "/tmp/ipykernel_12512/2255077103.py:1: SettingWithCopyWarning: \n",
      "A value is trying to be set on a copy of a slice from a DataFrame.\n",
      "Try using .loc[row_indexer,col_indexer] = value instead\n",
      "\n",
      "See the caveats in the documentation: https://pandas.pydata.org/pandas-docs/stable/user_guide/indexing.html#returning-a-view-versus-a-copy\n",
      "  FHP_article.loc[:,'abstract_clean']=FHP_article['abstract_list'].apply(word_lower)\n"
     ]
    }
   ],
   "source": [
    "FHP_article.loc[:,'abstract_clean']=FHP_article['abstract_list'].apply(word_lower)"
   ]
  },
  {
   "cell_type": "code",
   "execution_count": 16,
   "id": "9ae39cdc-4530-44d9-8c75-892dec556381",
   "metadata": {},
   "outputs": [
    {
     "data": {
      "text/plain": [
       "'go to: abstract instantaneous head posture (ihp) can extensively alter resting hyoid position in humans, yet postural effects on resting hyoid position remain poorly documented among mammals in general. clarifying this relationship is essential for evaluating interspecific variation in hyoid posture across evolution, and understanding its implications for hyolingual soft tissue function and swallowing motor control. using didelphis virginiana as a model, we conducted static manipulation experiments to show that head flexion shifts hyoid position rostrally relative to the cranium across different gapes. ihp-induced shifts in hyoid position along the anteroposterior axis are comparable to in vivo hyoid protraction distance during swallowing. ihp also has opposite effects on passive genio- and stylohyoid muscle lengths. high-speed biplanar videoradiography suggests didelphis consistently swallows at neutral to flexed posture, with stereotyped hyoid kinematics across different head postures. ihp change can affect suprahyoid muscle force production by shifting their positions on the length-tension curve, and redirecting lines of action and the resultant force from supra- and infrahyoid muscles. we hypothesize that demands on muscle performance may constrain the range of swallowing head postures in mammals. this article is part of the theme issue ‘food processing and nutritional assimilation in animals’. keywords: biomechanics, muscle physiology, mammal evolution, swallowing, didelphis virginiana'"
      ]
     },
     "execution_count": 16,
     "metadata": {},
     "output_type": "execute_result"
    }
   ],
   "source": [
    "FHP_article.loc[2,'abstract_clean']"
   ]
  },
  {
   "cell_type": "markdown",
   "id": "ce054b09-68f4-4ebf-a816-9c7030189d3f",
   "metadata": {},
   "source": [
    "### 특수문자, 숫자, '/n', '소제목' 제거"
   ]
  },
  {
   "cell_type": "code",
   "execution_count": 17,
   "id": "71d59fbe-282e-40ee-937b-165092070040",
   "metadata": {},
   "outputs": [],
   "source": [
    "import re\n",
    "def word_cleaning(raw):\n",
    "    raw = raw.replace(\"\\n\",\" \")\n",
    "    raw = raw.replace(\"go to: abstract\",\"\")\n",
    "    raw = raw.replace(\"background:\",\"\")\n",
    "    raw = raw.replace(\"purpose:\",\"\")\n",
    "    raw = raw.replace(\"objectives:\",\"\")\n",
    "    raw = raw.replace(\"objective:\",\"\")\n",
    "    raw = raw.replace(\"design:\",\"\")\n",
    "    raw = raw.replace(\"methods:\",\"\")\n",
    "    raw = raw.replace(\"method:\",\"\")\n",
    "    raw = raw.replace(\"results:\",\"\")\n",
    "    raw = raw.replace(\"result:\",\"\")\n",
    "    raw = raw.replace(\"discussion:\",\"\")\n",
    "    raw = raw.replace(\"conclusions:\",\"\")\n",
    "    raw = raw.replace(\"interpretation:\",\"\")\n",
    "    raw = raw.replace(\"conclusion:\",\"\")\n",
    "    raw = raw.replace(\"significance:\",\"\")\n",
    "    raw = raw.replace(\"keywords:\",\"\")\n",
    "    raw = raw.replace(\"fhp\",\" \")\n",
    "    raw = raw.replace(\"forward head posture\",\" \")\n",
    "    raw = raw.replace(\"head forward posture\",\" \")\n",
    "    patterns = '([^a-z|A-Z|\\'| ])'\n",
    "    text_regex = re.sub(pattern = patterns, repl = \"\",string=raw)\n",
    "    return text_regex"
   ]
  },
  {
   "cell_type": "code",
   "execution_count": 18,
   "id": "43affd5f-1d2b-4fbe-b10a-9fb83f02e8c3",
   "metadata": {},
   "outputs": [],
   "source": [
    "FHP_article.loc[:,'abstract_clean']=FHP_article['abstract_clean'].apply(word_cleaning)"
   ]
  },
  {
   "cell_type": "code",
   "execution_count": 19,
   "id": "9f49a9dd-cf74-41a1-ae0c-0452e919c12f",
   "metadata": {
    "scrolled": true
   },
   "outputs": [
    {
     "data": {
      "text/plain": [
       "' background people with low back pain lbp exhibit impaired anticipatory postural adjustment apas objective to evaluate whether current motor retraining treatments address lbpassociated changes in movement coordination during tasks that do and do not require apas design prospectively registered randomized controlled trial with a blinded assessor setting outcome evaluations occurred in a university laboratory treatments in outpatient physical therapy clinics patients fifteen subjects without lbp and  subjects with chronic recurrent nonspecific lbp intervention twelve subjects with lbp received stabilization treatment  received movement system impairment msibased treatment over  weekly hour sessions plus home exercises measurements pre and post treatment surface electromyography emg was recorded bilaterally from trunk and leg muscles during unsupported and supported leglifting tasks which did and did not require an apa respectively vertical reaction forces under the contralateral leg were recorded to characterize the apa oswestry disability scores and numeric pain ratings were also recorded results persons with lbp demonstrated an impaired apa compared to persons without lbp characterized by increased premovement contralateral force application and increased postmovement trunk emg amplitude regardless of the task following treatments both groups similarly improved in disability and function however apa characteristics did not change ie force application or emg amplitude in either task limitations treating clinicians were not blinded to treatment allocation only shortterm outcomes were assessed and main effects of treatment do not rule out nonspecific effects of time or repeated exposure conclusions movement impairments in persons with lbp are not limited to tasks requiring an apa stabilization and msibased treatments for lbp do not ameliorate and may exacerbate apa impairments ie excessive force application and increased postmovement trunk muscle activation  low back pain lbp anticipatory postural adjustment apa aberrant movement patterns stabilization approach movement systems impairment msi approach'"
      ]
     },
     "execution_count": 19,
     "metadata": {},
     "output_type": "execute_result"
    }
   ],
   "source": [
    "FHP_article.loc[1789,'abstract_clean']"
   ]
  },
  {
   "cell_type": "markdown",
   "id": "d63db968-0926-4bad-9ba1-d997ad60cdac",
   "metadata": {},
   "source": [
    "### 단어 토큰화"
   ]
  },
  {
   "cell_type": "code",
   "execution_count": 64,
   "id": "6adf2274-c343-4b85-8f23-ba20b83864eb",
   "metadata": {
    "scrolled": true
   },
   "outputs": [
    {
     "name": "stderr",
     "output_type": "stream",
     "text": [
      "<>:2: DeprecationWarning: invalid escape sequence '\\s'\n",
      "<>:2: DeprecationWarning: invalid escape sequence '\\s'\n",
      "/tmp/ipykernel_12512/2888958303.py:2: DeprecationWarning: invalid escape sequence '\\s'\n",
      "  tokenizer = RegexpTokenizer(\"[\\s]+\", gaps=True)\n"
     ]
    }
   ],
   "source": [
    "def word_tokenizing(raw):\n",
    "    tokenizer = RegexpTokenizer(\"[\\s]+\", gaps=True) \n",
    "    tokens = tokenizer.tokenize(raw)\n",
    "    tags = nltk.pos_tag(tokens)\n",
    "    # nouns_list = [t for t in tags if t[1] in  ['NN','NNP','NNS']]\n",
    "    nouns_list = [t for t in tags if t[1] in  ['JJ','JJR','NN','NNP','NNS','VB','VBD','VBG','VBN','VBP','VBZ']]\n",
    "    # nouns_list = [t for t in tags if t[1] in  ['NN','NNP','NNS','VB','VBD','VBG','VBN','VBP','VBZ']]\n",
    "    return nouns_list"
   ]
  },
  {
   "cell_type": "code",
   "execution_count": 21,
   "id": "043604f7-8845-4439-8536-af5c79a76e58",
   "metadata": {},
   "outputs": [
    {
     "name": "stderr",
     "output_type": "stream",
     "text": [
      "/tmp/ipykernel_12512/84472225.py:1: SettingWithCopyWarning: \n",
      "A value is trying to be set on a copy of a slice from a DataFrame.\n",
      "Try using .loc[row_indexer,col_indexer] = value instead\n",
      "\n",
      "See the caveats in the documentation: https://pandas.pydata.org/pandas-docs/stable/user_guide/indexing.html#returning-a-view-versus-a-copy\n",
      "  FHP_article.loc[:,'abstract_token']=FHP_article['abstract_clean'].apply(word_tokenizing)\n"
     ]
    }
   ],
   "source": [
    "FHP_article.loc[:,'abstract_token']=FHP_article['abstract_clean'].apply(word_tokenizing)"
   ]
  },
  {
   "cell_type": "code",
   "execution_count": 22,
   "id": "38a5bb47-6303-4469-9134-dc2a96d07cb9",
   "metadata": {
    "scrolled": true
   },
   "outputs": [
    {
     "data": {
      "text/plain": [
       "0       [(is, VBZ), (serious, JJ), (problem, NN), (cau...\n",
       "1       [(hand, NN), (explores, VBZ), (environment, NN...\n",
       "2       [(instantaneous, JJ), (head, NN), (posture, NN...\n",
       "3       [(association, NN), (head, NN), (cervical, JJ)...\n",
       "4       [(is, VBZ), (common, JJ), (postural, JJ), (dev...\n",
       "                              ...                        \n",
       "2878    [(explore, VB), (characteristics, NNS), (lower...\n",
       "2879    [(background, NN), (novel, JJ), (singleswitch,...\n",
       "2880    [(emerald, NN), (jewel, NN), (wasp, NN), (ampu...\n",
       "2881    [(introduction, NN), (cervicogenic, NN), (tinn...\n",
       "2882    [(high, JJ), (visual, JJ), (acuity, NN), (allo...\n",
       "Name: abstract_token, Length: 2880, dtype: object"
      ]
     },
     "execution_count": 22,
     "metadata": {},
     "output_type": "execute_result"
    }
   ],
   "source": [
    "FHP_article['abstract_token']"
   ]
  },
  {
   "cell_type": "markdown",
   "id": "d45b9275-f07f-4b5e-b0c0-3c79a669d9e8",
   "metadata": {},
   "source": [
    "### 표제어 추출"
   ]
  },
  {
   "cell_type": "code",
   "execution_count": 65,
   "id": "3513e800-adb4-4a7f-bb91-d82271c36be9",
   "metadata": {},
   "outputs": [],
   "source": [
    "def Lemmatization(raw):\n",
    "    lemmatizer = WordNetLemmatizer()\n",
    "    lemmatized_list = []\n",
    "    for word in raw:\n",
    "        if word[1][0].lower() in ['v','n']:\n",
    "            lemmatized_word = lemmatizer.lemmatize(word[0],word[1][0].lower())\n",
    "            if lemmatized_word != 'be':\n",
    "                lemmatized_list.append(lemmatized_word)\n",
    "        else:\n",
    "            lemmatized_list.append(word[0])\n",
    "    return lemmatized_list"
   ]
  },
  {
   "cell_type": "code",
   "execution_count": 24,
   "id": "f63b44c8-5b2b-49f8-83e8-b3e410b69720",
   "metadata": {
    "scrolled": true
   },
   "outputs": [],
   "source": [
    "FHP_article.loc[:,'abstract_token']=FHP_article['abstract_token'].apply(Lemmatization)"
   ]
  },
  {
   "cell_type": "code",
   "execution_count": 25,
   "id": "5b3759d6-c326-4cc4-91f5-c2dd0727d82b",
   "metadata": {
    "scrolled": true
   },
   "outputs": [
    {
     "data": {
      "text/plain": [
       "0       [serious, problem, cause, head, neck, disabili...\n",
       "1       [hand, explore, environment, obtain, tactile, ...\n",
       "2       [instantaneous, head, posture, ihp, alter, res...\n",
       "3       [association, head, cervical, posture, maloccl...\n",
       "4       [common, postural, deviation, deep, neck, musc...\n",
       "                              ...                        \n",
       "2878    [explore, characteristic, lower, limb, postura...\n",
       "2879    [background, novel, singleswitch, access, tech...\n",
       "2880    [emerald, jewel, wasp, ampulex, compressa, ren...\n",
       "2881    [introduction, cervicogenic, tinnitus, accept,...\n",
       "2882    [high, visual, acuity, allow, parallel, proces...\n",
       "Name: abstract_token, Length: 2880, dtype: object"
      ]
     },
     "execution_count": 25,
     "metadata": {},
     "output_type": "execute_result"
    }
   ],
   "source": [
    "FHP_article.loc[:,'abstract_token']"
   ]
  },
  {
   "cell_type": "code",
   "execution_count": 66,
   "id": "58525514-da0b-4854-ae56-2f5131f7b4f7",
   "metadata": {},
   "outputs": [],
   "source": [
    "def join_words(raw):\n",
    "    sentence = ' '.join(raw)\n",
    "    return sentence"
   ]
  },
  {
   "cell_type": "code",
   "execution_count": 27,
   "id": "f0047074-c073-45dd-9d21-3f653cfe2b29",
   "metadata": {},
   "outputs": [
    {
     "name": "stderr",
     "output_type": "stream",
     "text": [
      "/tmp/ipykernel_12512/2594841364.py:1: SettingWithCopyWarning: \n",
      "A value is trying to be set on a copy of a slice from a DataFrame.\n",
      "Try using .loc[row_indexer,col_indexer] = value instead\n",
      "\n",
      "See the caveats in the documentation: https://pandas.pydata.org/pandas-docs/stable/user_guide/indexing.html#returning-a-view-versus-a-copy\n",
      "  FHP_article.loc[:,'abstract_join'] = FHP_article['abstract_token'].apply(join_words)\n"
     ]
    }
   ],
   "source": [
    "FHP_article.loc[:,'abstract_join'] = FHP_article['abstract_token'].apply(join_words)"
   ]
  },
  {
   "cell_type": "code",
   "execution_count": 28,
   "id": "b8460e60-1cab-47e3-8b3d-68bed1f685f6",
   "metadata": {
    "scrolled": true
   },
   "outputs": [
    {
     "data": {
      "text/html": [
       "<div>\n",
       "<style scoped>\n",
       "    .dataframe tbody tr th:only-of-type {\n",
       "        vertical-align: middle;\n",
       "    }\n",
       "\n",
       "    .dataframe tbody tr th {\n",
       "        vertical-align: top;\n",
       "    }\n",
       "\n",
       "    .dataframe thead th {\n",
       "        text-align: right;\n",
       "    }\n",
       "</style>\n",
       "<table border=\"1\" class=\"dataframe\">\n",
       "  <thead>\n",
       "    <tr style=\"text-align: right;\">\n",
       "      <th></th>\n",
       "      <th>title</th>\n",
       "      <th>artical_date</th>\n",
       "      <th>abstract_list</th>\n",
       "      <th>abstract_clean</th>\n",
       "      <th>abstract_token</th>\n",
       "      <th>abstract_join</th>\n",
       "    </tr>\n",
       "  </thead>\n",
       "  <tbody>\n",
       "    <tr>\n",
       "      <th>0</th>\n",
       "      <td>Influence of forward head posture on muscle ac...</td>\n",
       "      <td>2022 Nov 14.</td>\n",
       "      <td>Go to:\\nAbstract\\nForward head posture (FHP) i...</td>\n",
       "      <td>is a serious problem causing head and nec...</td>\n",
       "      <td>[serious, problem, cause, head, neck, disabili...</td>\n",
       "      <td>serious problem cause head neck disability cha...</td>\n",
       "    </tr>\n",
       "    <tr>\n",
       "      <th>1</th>\n",
       "      <td>Relative posture between head and finger deter...</td>\n",
       "      <td>2020 Mar 26.</td>\n",
       "      <td>Go to:\\nAbstract\\nThe hand explores the enviro...</td>\n",
       "      <td>the hand explores the environment for obtaini...</td>\n",
       "      <td>[hand, explore, environment, obtain, tactile, ...</td>\n",
       "      <td>hand explore environment obtain tactile inform...</td>\n",
       "    </tr>\n",
       "    <tr>\n",
       "      <th>2</th>\n",
       "      <td>Head posture impacts mammalian hyoid position ...</td>\n",
       "      <td>October 16, 2023.</td>\n",
       "      <td>Go to:\\nABSTRACT\\nInstantaneous head posture (...</td>\n",
       "      <td>instantaneous head posture ihp can extensivel...</td>\n",
       "      <td>[instantaneous, head, posture, ihp, alter, res...</td>\n",
       "      <td>instantaneous head posture ihp alter rest hyoi...</td>\n",
       "    </tr>\n",
       "    <tr>\n",
       "      <th>3</th>\n",
       "      <td>Does head and cervical posture correlate to ma...</td>\n",
       "      <td>2022 Oct 25.</td>\n",
       "      <td>Go to:\\nAbstract\\nBackground\\nThe association ...</td>\n",
       "      <td>background the association of head and cervic...</td>\n",
       "      <td>[association, head, cervical, posture, maloccl...</td>\n",
       "      <td>association head cervical posture malocclusion...</td>\n",
       "    </tr>\n",
       "    <tr>\n",
       "      <th>4</th>\n",
       "      <td>Changes in deep neck muscle length from the ne...</td>\n",
       "      <td>2022 Jan 25.</td>\n",
       "      <td>Go to:\\nAbstract\\nForward head posture (FHP) i...</td>\n",
       "      <td>is one of the most common postural deviat...</td>\n",
       "      <td>[common, postural, deviation, deep, neck, musc...</td>\n",
       "      <td>common postural deviation deep neck muscle imb...</td>\n",
       "    </tr>\n",
       "    <tr>\n",
       "      <th>...</th>\n",
       "      <td>...</td>\n",
       "      <td>...</td>\n",
       "      <td>...</td>\n",
       "      <td>...</td>\n",
       "      <td>...</td>\n",
       "      <td>...</td>\n",
       "    </tr>\n",
       "    <tr>\n",
       "      <th>2878</th>\n",
       "      <td>Characteristics of the postural stability of t...</td>\n",
       "      <td>2023 Jan 4.</td>\n",
       "      <td>Go to:\\nAbstract\\nObjective: To explore the ch...</td>\n",
       "      <td>to explore the characteristics of lower limb...</td>\n",
       "      <td>[explore, characteristic, lower, limb, postura...</td>\n",
       "      <td>explore characteristic lower limb postural sta...</td>\n",
       "    </tr>\n",
       "    <tr>\n",
       "      <th>2879</th>\n",
       "      <td>Validating an infrared thermal switch as a nov...</td>\n",
       "      <td>2010 Aug 5.</td>\n",
       "      <td>Go to:\\nAbstract\\nBackground\\nRecently, a nove...</td>\n",
       "      <td>background recently a novel singleswitch acce...</td>\n",
       "      <td>[background, novel, singleswitch, access, tech...</td>\n",
       "      <td>background novel singleswitch access technolog...</td>\n",
       "    </tr>\n",
       "    <tr>\n",
       "      <th>2880</th>\n",
       "      <td>How Not to Be Turned into a Zombie</td>\n",
       "      <td>2018 Oct 31.</td>\n",
       "      <td>Go to:\\nAbstract\\nThe emerald jewel wasp (Ampu...</td>\n",
       "      <td>the emerald jewel wasp ampulex compressa is r...</td>\n",
       "      <td>[emerald, jewel, wasp, ampulex, compressa, ren...</td>\n",
       "      <td>emerald jewel wasp ampulex compressa renowned ...</td>\n",
       "    </tr>\n",
       "    <tr>\n",
       "      <th>2881</th>\n",
       "      <td>Chronic Cervicogenic Tinnitus Rapidly Resolved...</td>\n",
       "      <td>2016 Mar 23.</td>\n",
       "      <td>Go to:\\nAbstract\\nIntroduction\\nCervicogenic t...</td>\n",
       "      <td>introduction cervicogenic tinnitus is not a g...</td>\n",
       "      <td>[introduction, cervicogenic, tinnitus, accept,...</td>\n",
       "      <td>introduction cervicogenic tinnitus accept path...</td>\n",
       "    </tr>\n",
       "    <tr>\n",
       "      <th>2882</th>\n",
       "      <td>Static antennae act as locomotory guides that ...</td>\n",
       "      <td></td>\n",
       "      <td>Go to:\\nAbstract\\nHigh visual acuity allows pa...</td>\n",
       "      <td>high visual acuity allows parallel processing...</td>\n",
       "      <td>[high, visual, acuity, allow, parallel, proces...</td>\n",
       "      <td>high visual acuity allow parallel processing d...</td>\n",
       "    </tr>\n",
       "  </tbody>\n",
       "</table>\n",
       "<p>2880 rows × 6 columns</p>\n",
       "</div>"
      ],
      "text/plain": [
       "                                                  title        artical_date  \\\n",
       "0     Influence of forward head posture on muscle ac...        2022 Nov 14.   \n",
       "1     Relative posture between head and finger deter...        2020 Mar 26.   \n",
       "2     Head posture impacts mammalian hyoid position ...   October 16, 2023.   \n",
       "3     Does head and cervical posture correlate to ma...        2022 Oct 25.   \n",
       "4     Changes in deep neck muscle length from the ne...        2022 Jan 25.   \n",
       "...                                                 ...                 ...   \n",
       "2878  Characteristics of the postural stability of t...         2023 Jan 4.   \n",
       "2879  Validating an infrared thermal switch as a nov...         2010 Aug 5.   \n",
       "2880                 How Not to Be Turned into a Zombie        2018 Oct 31.   \n",
       "2881  Chronic Cervicogenic Tinnitus Rapidly Resolved...        2016 Mar 23.   \n",
       "2882  Static antennae act as locomotory guides that ...                       \n",
       "\n",
       "                                          abstract_list  \\\n",
       "0     Go to:\\nAbstract\\nForward head posture (FHP) i...   \n",
       "1     Go to:\\nAbstract\\nThe hand explores the enviro...   \n",
       "2     Go to:\\nABSTRACT\\nInstantaneous head posture (...   \n",
       "3     Go to:\\nAbstract\\nBackground\\nThe association ...   \n",
       "4     Go to:\\nAbstract\\nForward head posture (FHP) i...   \n",
       "...                                                 ...   \n",
       "2878  Go to:\\nAbstract\\nObjective: To explore the ch...   \n",
       "2879  Go to:\\nAbstract\\nBackground\\nRecently, a nove...   \n",
       "2880  Go to:\\nAbstract\\nThe emerald jewel wasp (Ampu...   \n",
       "2881  Go to:\\nAbstract\\nIntroduction\\nCervicogenic t...   \n",
       "2882  Go to:\\nAbstract\\nHigh visual acuity allows pa...   \n",
       "\n",
       "                                         abstract_clean  \\\n",
       "0          is a serious problem causing head and nec...   \n",
       "1      the hand explores the environment for obtaini...   \n",
       "2      instantaneous head posture ihp can extensivel...   \n",
       "3      background the association of head and cervic...   \n",
       "4          is one of the most common postural deviat...   \n",
       "...                                                 ...   \n",
       "2878    to explore the characteristics of lower limb...   \n",
       "2879   background recently a novel singleswitch acce...   \n",
       "2880   the emerald jewel wasp ampulex compressa is r...   \n",
       "2881   introduction cervicogenic tinnitus is not a g...   \n",
       "2882   high visual acuity allows parallel processing...   \n",
       "\n",
       "                                         abstract_token  \\\n",
       "0     [serious, problem, cause, head, neck, disabili...   \n",
       "1     [hand, explore, environment, obtain, tactile, ...   \n",
       "2     [instantaneous, head, posture, ihp, alter, res...   \n",
       "3     [association, head, cervical, posture, maloccl...   \n",
       "4     [common, postural, deviation, deep, neck, musc...   \n",
       "...                                                 ...   \n",
       "2878  [explore, characteristic, lower, limb, postura...   \n",
       "2879  [background, novel, singleswitch, access, tech...   \n",
       "2880  [emerald, jewel, wasp, ampulex, compressa, ren...   \n",
       "2881  [introduction, cervicogenic, tinnitus, accept,...   \n",
       "2882  [high, visual, acuity, allow, parallel, proces...   \n",
       "\n",
       "                                          abstract_join  \n",
       "0     serious problem cause head neck disability cha...  \n",
       "1     hand explore environment obtain tactile inform...  \n",
       "2     instantaneous head posture ihp alter rest hyoi...  \n",
       "3     association head cervical posture malocclusion...  \n",
       "4     common postural deviation deep neck muscle imb...  \n",
       "...                                                 ...  \n",
       "2878  explore characteristic lower limb postural sta...  \n",
       "2879  background novel singleswitch access technolog...  \n",
       "2880  emerald jewel wasp ampulex compressa renowned ...  \n",
       "2881  introduction cervicogenic tinnitus accept path...  \n",
       "2882  high visual acuity allow parallel processing d...  \n",
       "\n",
       "[2880 rows x 6 columns]"
      ]
     },
     "execution_count": 28,
     "metadata": {},
     "output_type": "execute_result"
    }
   ],
   "source": [
    "FHP_article"
   ]
  },
  {
   "cell_type": "markdown",
   "id": "6b216cef-4b01-4b94-b5e0-76783753cd03",
   "metadata": {},
   "source": [
    "### 유사한 단어 묶기"
   ]
  },
  {
   "cell_type": "code",
   "execution_count": 29,
   "id": "58a205cf-f83d-4907-8557-d5cc91eee3ec",
   "metadata": {},
   "outputs": [],
   "source": [
    "def word_cleaning(raw):\n",
    "    raw = raw.replace(\"chronic neck pain\",\"cnp\")\n",
    "    raw = raw.replace(\"craniovertebral angle\",\"cva\")\n",
    "    \n",
    "    return raw"
   ]
  },
  {
   "cell_type": "code",
   "execution_count": 30,
   "id": "3571e2b8-cd32-4f9b-ae59-4d3a4c6cfde7",
   "metadata": {},
   "outputs": [],
   "source": [
    "FHP_article.loc[:,'abstract_join'] = FHP_article['abstract_join'].apply(word_cleaning)"
   ]
  },
  {
   "cell_type": "code",
   "execution_count": 31,
   "id": "ca4b692a-d571-4053-83f0-ef546dd206f6",
   "metadata": {},
   "outputs": [
    {
     "data": {
      "text/plain": [
       "2880"
      ]
     },
     "execution_count": 31,
     "metadata": {},
     "output_type": "execute_result"
    }
   ],
   "source": [
    "len(FHP_article)"
   ]
  },
  {
   "cell_type": "code",
   "execution_count": 32,
   "id": "a05ba579-02d2-4cdc-a1cc-2900ccbdd46a",
   "metadata": {},
   "outputs": [
    {
     "data": {
      "text/plain": [
       "title             0\n",
       "artical_date      0\n",
       "abstract_list     0\n",
       "abstract_clean    0\n",
       "abstract_token    0\n",
       "abstract_join     0\n",
       "dtype: int64"
      ]
     },
     "execution_count": 32,
     "metadata": {},
     "output_type": "execute_result"
    }
   ],
   "source": [
    "FHP_article.isnull().sum()"
   ]
  },
  {
   "cell_type": "markdown",
   "id": "3586ca66-80fd-4f29-85e5-e3c4e6fdda80",
   "metadata": {},
   "source": [
    "## 학습데이터, 테스트 데이터 분류"
   ]
  },
  {
   "cell_type": "code",
   "execution_count": 33,
   "id": "0022dea3-61c5-4fa5-80d7-39d7e9ab988e",
   "metadata": {},
   "outputs": [],
   "source": [
    "from sklearn.model_selection import train_test_split\n",
    "FHP_article_train,FHP_article_test = train_test_split(FHP_article,test_size=0.4,random_state=42)"
   ]
  },
  {
   "cell_type": "markdown",
   "id": "849a23e6-d314-4189-9913-d1cf4ae2de2f",
   "metadata": {},
   "source": [
    "## 키워드 분류하기"
   ]
  },
  {
   "cell_type": "markdown",
   "id": "c786ecba-41d5-4a3f-a4eb-240cc19390f3",
   "metadata": {},
   "source": [
    "### TfidfVectorizer 최적화"
   ]
  },
  {
   "cell_type": "code",
   "execution_count": 68,
   "id": "2d78673d-5dfe-44fa-b73d-ab3877baa292",
   "metadata": {},
   "outputs": [
    {
     "data": {
      "text/plain": [
       "array(['activity', 'aim', 'analysis', 'assess', 'body', 'change',\n",
       "       'compare', 'conclusion', 'control', 'difference', 'different',\n",
       "       'effect', 'find', 'group', 'head', 'movement', 'muscle', 'patient',\n",
       "       'perform', 'position', 'postural', 'system', 'test', 'time'],\n",
       "      dtype=object)"
      ]
     },
     "execution_count": 68,
     "metadata": {},
     "output_type": "execute_result"
    }
   ],
   "source": [
    "from sklearn.feature_extraction.text import TfidfVectorizer\n",
    "\n",
    "tfidfVectorizer = TfidfVectorizer(max_df=0.60,min_df=0.2,ngram_range=(1,2), stop_words = ['use','method','subject','suggest','have','show','result','include','provide','increase','investigate','significant','measure'])\n",
    "features_train = tfidfVectorizer.fit_transform(FHP_article_train['abstract_join'])\n",
    "dictionary_list = tfidfVectorizer.get_feature_names_out()\n",
    "dictionary_list"
   ]
  },
  {
   "cell_type": "markdown",
   "id": "3fc6a30f-0bce-45a4-951b-9b93740f3b8c",
   "metadata": {},
   "source": [
    "### gridsearch"
   ]
  },
  {
   "cell_type": "code",
   "execution_count": 46,
   "id": "52d9b85d-7bc5-4833-b505-de55aafb3fd5",
   "metadata": {},
   "outputs": [
    {
     "name": "stdout",
     "output_type": "stream",
     "text": [
      "Best Model's Params:  {'doc_topic_prior': 1.0, 'learning_decay': 0.7, 'n_components': 3, 'topic_word_prior': 1.0}\n",
      "Best Log Likelihood Score:  -2445.614601837949\n",
      "perplexity 30.168143597819803\n"
     ]
    }
   ],
   "source": [
    "from sklearn.decomposition import LatentDirichletAllocation\n",
    "from sklearn.model_selection import GridSearchCV\n",
    "\n",
    "# LDA 모델을 위한 파라미터 그리드 생성\n",
    "param_grid = {\n",
    "    'n_components': [3],\n",
    "    'learning_decay': [0.7],\n",
    "    'doc_topic_prior': [1.0],  # 문서-주제 사전확률 (알파)\n",
    "    'topic_word_prior': [1.0]  # 단어-주제 사전확률 (베타)\n",
    "}\n",
    "\n",
    "# LatentDirichletAllocation 모델 인스턴스 생성\n",
    "lda = LatentDirichletAllocation()\n",
    "\n",
    "# GridSearchCV 인스턴스 생성\n",
    "model = GridSearchCV(lda, param_grid, n_jobs=-1, cv=5)\n",
    "\n",
    "# 데이터는 여기에 당신의 데이터셋을 사용하세요\n",
    "# X는 문서-단어 행렬이어야 합니다. 예를 들어, CountVectorizer나 TfidfVectorizer를 사용하여 생성할 수 있습니다.\n",
    "model.fit(features_train)\n",
    "\n",
    "# 최적 모델\n",
    "grid_best_model = model.best_estimator_\n",
    "\n",
    "# 최적의 파라미터와 점수를 출력\n",
    "print(\"Best Model's Params: \", model.best_params_)\n",
    "print(\"Best Log Likelihood Score: \", model.best_score_)\n",
    "print(\"perplexity\",grid_best_model.perplexity(features_train) )\n"
   ]
  },
  {
   "cell_type": "code",
   "execution_count": 47,
   "id": "0efc855c-5ebd-4113-8249-c1ed1a038565",
   "metadata": {},
   "outputs": [
    {
     "data": {
      "text/html": [
       "<div>\n",
       "<style scoped>\n",
       "    .dataframe tbody tr th:only-of-type {\n",
       "        vertical-align: middle;\n",
       "    }\n",
       "\n",
       "    .dataframe tbody tr th {\n",
       "        vertical-align: top;\n",
       "    }\n",
       "\n",
       "    .dataframe thead th {\n",
       "        text-align: right;\n",
       "    }\n",
       "</style>\n",
       "<table border=\"1\" class=\"dataframe\">\n",
       "  <thead>\n",
       "    <tr style=\"text-align: right;\">\n",
       "      <th></th>\n",
       "      <th>0</th>\n",
       "      <th>1</th>\n",
       "    </tr>\n",
       "  </thead>\n",
       "  <tbody>\n",
       "    <tr>\n",
       "      <th>0</th>\n",
       "      <td>Topic1</td>\n",
       "      <td>muscle system control movement test effect activity postural compare perform</td>\n",
       "    </tr>\n",
       "    <tr>\n",
       "      <th>1</th>\n",
       "      <td>Topic2</td>\n",
       "      <td>patient postural body analysis control difference find conclusion aim assess</td>\n",
       "    </tr>\n",
       "    <tr>\n",
       "      <th>2</th>\n",
       "      <td>Topic3</td>\n",
       "      <td>head group position change movement time different activity muscle control</td>\n",
       "    </tr>\n",
       "  </tbody>\n",
       "</table>\n",
       "</div>"
      ],
      "text/plain": [
       "        0  \\\n",
       "0  Topic1   \n",
       "1  Topic2   \n",
       "2  Topic3   \n",
       "\n",
       "                                                                              1  \n",
       "0  muscle system control movement test effect activity postural compare perform  \n",
       "1  patient postural body analysis control difference find conclusion aim assess  \n",
       "2    head group position change movement time different activity muscle control  "
      ]
     },
     "execution_count": 47,
     "metadata": {},
     "output_type": "execute_result"
    }
   ],
   "source": [
    "grid_best_model.fit(features_train)\n",
    "import pandas as pd\n",
    "pd.set_option('display.max_colwidth', None)\n",
    "## 상위 단어 추출 \n",
    "## 0 확률 1은 dictionary\n",
    "topics_list = list()\n",
    "for topic in grid_best_model.components_:\n",
    "    df_datas = [topic, dictionary_list]\n",
    "    df_topics = pd.DataFrame(data=df_datas)\n",
    "    df_topics= df_topics.T\n",
    "    df_topics = df_topics.sort_values(0, ascending=False)\n",
    "    # print(df_topics[:3])\n",
    "    topics_text = ' '.join(df_topics[1].values[:10])# 시리즈 형식으로 출력 get values from series / index \n",
    "    topics_list.append(topics_text)\n",
    "topics_list_add_grid = [['Topic1', 'Topic2','Topic3'],topics_list]\n",
    "df_topics_keywords_grid = pd.DataFrame(topics_list_add_grid)\n",
    "df_topics_keywords_grid=df_topics_keywords_grid.T\n",
    "df_topics_keywords_grid"
   ]
  },
  {
   "cell_type": "code",
   "execution_count": 48,
   "id": "1e6428bb-c6ca-4673-93bc-64f8bfda937b",
   "metadata": {},
   "outputs": [
    {
     "data": {
      "text/html": [
       "\n",
       "<link rel=\"stylesheet\" type=\"text/css\" href=\"https://cdn.jsdelivr.net/gh/bmabey/pyLDAvis@3.4.0/pyLDAvis/js/ldavis.v1.0.0.css\">\n",
       "\n",
       "\n",
       "<div id=\"ldavis_el125121397633998811361124220124\" style=\"background-color:white;\"></div>\n",
       "<script type=\"text/javascript\">\n",
       "\n",
       "var ldavis_el125121397633998811361124220124_data = {\"mdsDat\": {\"x\": [0.09957803804312632, -0.0015556254300005147, -0.09802241261312568], \"y\": [0.038981104438310245, -0.07984803919577356, 0.040866934757463336], \"topics\": [1, 2, 3], \"cluster\": [1, 1, 1], \"Freq\": [33.51204149420452, 33.35230795009173, 33.13565055570376]}, \"tinfo\": {\"Term\": [\"head\", \"muscle\", \"patient\", \"body\", \"postural\", \"group\", \"change\", \"analysis\", \"position\", \"movement\", \"system\", \"test\", \"time\", \"activity\", \"effect\", \"control\", \"different\", \"find\", \"perform\", \"difference\", \"compare\", \"conclusion\", \"aim\", \"assess\", \"patient\", \"body\", \"analysis\", \"postural\", \"difference\", \"conclusion\", \"aim\", \"find\", \"assess\", \"control\", \"perform\", \"different\", \"system\", \"compare\", \"test\", \"effect\", \"group\", \"time\", \"position\", \"change\", \"activity\", \"head\", \"movement\", \"muscle\", \"muscle\", \"test\", \"system\", \"effect\", \"perform\", \"compare\", \"activity\", \"movement\", \"control\", \"find\", \"postural\", \"aim\", \"conclusion\", \"difference\", \"position\", \"time\", \"assess\", \"different\", \"change\", \"analysis\", \"body\", \"group\", \"head\", \"patient\", \"head\", \"change\", \"group\", \"position\", \"time\", \"different\", \"movement\", \"activity\", \"assess\", \"effect\", \"compare\", \"aim\", \"conclusion\", \"difference\", \"control\", \"perform\", \"muscle\", \"body\", \"find\", \"analysis\", \"test\", \"system\", \"patient\", \"postural\"], \"Freq\": [224.0, 211.0, 178.0, 183.0, 211.0, 186.0, 141.0, 128.0, 160.0, 181.0, 154.0, 127.0, 113.0, 130.0, 134.0, 191.0, 110.0, 93.0, 96.0, 104.0, 116.0, 83.0, 84.0, 93.0, 147.29536549730798, 132.85692719623935, 91.31568395470848, 134.1837160793757, 58.137846996570396, 45.90398205242549, 44.91104854187612, 48.564296539621736, 44.315662212711516, 70.09199717704624, 27.804794040473848, 30.911770447690685, 40.81591619844019, 29.194978884973033, 29.390914962139306, 27.085583522396835, 35.964046171490246, 16.232763166061126, 21.8295076660517, 17.264905374812432, 14.769062880420949, 21.435766226446916, 14.905673457807318, 8.877473547370137, 168.42044038038048, 82.60911023725536, 96.60449966024757, 75.08320098666061, 53.11049916649209, 59.616535882504245, 63.99468683816056, 88.14198234653541, 88.3367582245714, 33.037278317644926, 61.86159045909169, 20.140542901818456, 18.836040567152484, 23.038410794399116, 34.34767535696504, 24.097408059999857, 17.964094113082083, 19.714864245756832, 23.334668558642875, 20.70003232907199, 21.936609453038592, 21.363809456148516, 19.2075142799795, 13.060659857768805, 183.91142951468856, 100.42778759054714, 128.8496620868727, 104.37395680739847, 73.4251707028087, 59.411879957131845, 78.90007256696194, 51.759545507454035, 31.352932091224343, 32.10369689598203, 27.406459505527746, 19.254520634291815, 19.127107191022247, 23.816647847363992, 32.5941233989991, 16.07106476348142, 34.316679228482556, 28.658633954095222, 12.219566566971404, 16.583405342556674, 15.451216804002815, 17.31766845894443, 17.870080684300238, 15.894538060148582], \"Total\": [224.0, 211.0, 178.0, 183.0, 211.0, 186.0, 141.0, 128.0, 160.0, 181.0, 154.0, 127.0, 113.0, 130.0, 134.0, 191.0, 110.0, 93.0, 96.0, 104.0, 116.0, 83.0, 84.0, 93.0, 178.22610603937702, 183.45217060337316, 128.59912162633714, 211.939844598616, 104.99290563833351, 83.86712981060022, 84.3061120779864, 93.82114142423806, 93.63268841701795, 191.02287880061675, 96.98635797044736, 110.03851465057936, 154.7380843176322, 116.21797427300503, 127.45124200339748, 134.27248140503949, 186.17751771451148, 113.75534192886968, 160.5511398304152, 141.02736152400246, 130.52329522603554, 224.55471002111497, 181.94772837130466, 211.61459315623318, 211.61459315623318, 127.45124200339748, 154.7380843176322, 134.27248140503949, 96.98635797044736, 116.21797427300503, 130.52329522603554, 181.94772837130466, 191.02287880061675, 93.82114142423806, 211.939844598616, 84.3061120779864, 83.86712981060022, 104.99290563833351, 160.5511398304152, 113.75534192886968, 93.63268841701795, 110.03851465057936, 141.02736152400246, 128.59912162633714, 183.45217060337316, 186.17751771451148, 224.55471002111497, 178.22610603937702, 224.55471002111497, 141.02736152400246, 186.17751771451148, 160.5511398304152, 113.75534192886968, 110.03851465057936, 181.94772837130466, 130.52329522603554, 93.63268841701795, 134.27248140503949, 116.21797427300503, 84.3061120779864, 83.86712981060022, 104.99290563833351, 191.02287880061675, 96.98635797044736, 211.61459315623318, 183.45217060337316, 93.82114142423806, 128.59912162633714, 127.45124200339748, 154.7380843176322, 178.22610603937702, 211.939844598616], \"Category\": [\"Default\", \"Default\", \"Default\", \"Default\", \"Default\", \"Default\", \"Default\", \"Default\", \"Default\", \"Default\", \"Default\", \"Default\", \"Default\", \"Default\", \"Default\", \"Default\", \"Default\", \"Default\", \"Default\", \"Default\", \"Default\", \"Default\", \"Default\", \"Default\", \"Topic1\", \"Topic1\", \"Topic1\", \"Topic1\", \"Topic1\", \"Topic1\", \"Topic1\", \"Topic1\", \"Topic1\", \"Topic1\", \"Topic1\", \"Topic1\", \"Topic1\", \"Topic1\", \"Topic1\", \"Topic1\", \"Topic1\", \"Topic1\", \"Topic1\", \"Topic1\", \"Topic1\", \"Topic1\", \"Topic1\", \"Topic1\", \"Topic2\", \"Topic2\", \"Topic2\", \"Topic2\", \"Topic2\", \"Topic2\", \"Topic2\", \"Topic2\", \"Topic2\", \"Topic2\", \"Topic2\", \"Topic2\", \"Topic2\", \"Topic2\", \"Topic2\", \"Topic2\", \"Topic2\", \"Topic2\", \"Topic2\", \"Topic2\", \"Topic2\", \"Topic2\", \"Topic2\", \"Topic2\", \"Topic3\", \"Topic3\", \"Topic3\", \"Topic3\", \"Topic3\", \"Topic3\", \"Topic3\", \"Topic3\", \"Topic3\", \"Topic3\", \"Topic3\", \"Topic3\", \"Topic3\", \"Topic3\", \"Topic3\", \"Topic3\", \"Topic3\", \"Topic3\", \"Topic3\", \"Topic3\", \"Topic3\", \"Topic3\", \"Topic3\", \"Topic3\"], \"logprob\": [24.0, 23.0, 22.0, 21.0, 20.0, 19.0, 18.0, 17.0, 16.0, 15.0, 14.0, 13.0, 12.0, 11.0, 10.0, 9.0, 8.0, 7.0, 6.0, 5.0, 4.0, 3.0, 2.0, 1.0, -2.0586, -2.1618, -2.5367, -2.1518, -2.9882, -3.2245, -3.2464, -3.1682, -3.2597, -2.8012, -3.7258, -3.6199, -3.342, -3.677, -3.6704, -3.752, -3.4685, -4.264, -3.9678, -4.2024, -4.3585, -3.986, -4.3493, -4.8675, -1.9198, -2.6321, -2.4756, -2.7277, -3.0739, -2.9583, -2.8875, -2.5673, -2.5651, -3.5486, -2.9214, -4.0435, -4.1105, -3.9091, -3.5097, -3.8642, -4.1579, -4.0649, -3.8963, -4.0161, -3.9581, -3.9846, -4.091, -4.4767, -1.8253, -2.4303, -2.1811, -2.3918, -2.7435, -2.9553, -2.6716, -3.0931, -3.5944, -3.5708, -3.729, -4.082, -4.0886, -3.8694, -3.5556, -4.2627, -3.5041, -3.6843, -4.5367, -4.2313, -4.3021, -4.188, -4.1566, -4.2738], \"loglift\": [24.0, 23.0, 22.0, 21.0, 20.0, 19.0, 18.0, 17.0, 16.0, 15.0, 14.0, 13.0, 12.0, 11.0, 10.0, 9.0, 8.0, 7.0, 6.0, 5.0, 4.0, 3.0, 2.0, 1.0, 0.9027, 0.7706, 0.7509, 0.6362, 0.5022, 0.4906, 0.4635, 0.4348, 0.3452, 0.0907, -0.1561, -0.1764, -0.2394, -0.2882, -0.3738, -0.5076, -0.5509, -0.8538, -0.9021, -1.007, -1.0858, -1.2558, -1.4087, -2.078, 0.8697, 0.6644, 0.6269, 0.5168, 0.4958, 0.4305, 0.3853, 0.3733, 0.3268, 0.0543, -0.1334, -0.3337, -0.3954, -0.4187, -0.444, -0.4539, -0.553, -0.6214, -0.701, -0.7285, -1.0258, -1.067, -1.3608, -1.5154, 0.9049, 0.765, 0.7365, 0.6739, 0.6668, 0.4882, 0.269, 0.1796, 0.0105, -0.3263, -0.3401, -0.3721, -0.3736, -0.3789, -0.6637, -0.693, -0.7146, -0.7519, -0.9338, -0.9437, -1.0055, -1.0854, -1.1954, -1.4858]}, \"token.table\": {\"Topic\": [1, 2, 3, 1, 2, 3, 1, 2, 3, 1, 2, 3, 1, 2, 3, 1, 2, 3, 1, 2, 3, 1, 2, 3, 1, 2, 3, 1, 2, 3, 1, 2, 3, 1, 2, 3, 1, 2, 3, 1, 2, 3, 1, 2, 3, 1, 2, 3, 1, 2, 3, 1, 2, 3, 1, 2, 3, 1, 2, 3, 1, 2, 3, 1, 2, 3, 1, 2, 3, 1, 2, 3], \"Freq\": [0.11492201429655557, 0.49033392766530376, 0.3983963162280593, 0.5337691288429155, 0.23723072393018468, 0.22536918773367545, 0.7076253620488429, 0.1632981604728099, 0.13219374895417946, 0.46992135699483883, 0.19224055513425226, 0.3310809560645455, 0.7249846080455944, 0.11992226599250433, 0.15807935062648298, 0.12054398392120984, 0.1630889194228133, 0.7090822583600579, 0.24953110894771538, 0.5162712598918249, 0.2323220669513212, 0.5484866371829256, 0.22654882840164314, 0.22654882840164314, 0.36644825185083535, 0.4606778023267644, 0.17275417587253666, 0.5524182767147257, 0.21906242007652912, 0.22858687312333476, 0.2817195424569172, 0.18175454352059175, 0.5361759033857457, 0.2010836451182665, 0.5585656808840737, 0.23832135717720476, 0.5222703460665975, 0.35173309020811666, 0.12790294189386062, 0.19336384135920834, 0.11279557412620488, 0.6928870982038299, 0.09351841249745045, 0.08461189702150279, 0.8193994237871849, 0.08244126010405128, 0.4836553926104342, 0.43419063654800344, 0.04253014816116854, 0.7938960990084795, 0.16066944860885893, 0.8247949936555424, 0.07294105386069423, 0.10099530534557663, 0.28870039648804896, 0.5464686076380927, 0.164971655136028, 0.13702799010482183, 0.21177053016199737, 0.6477686804955214, 0.6322548752160171, 0.2925358377865154, 0.07549311942877815, 0.26496385929037963, 0.6268657158821177, 0.10986306360820619, 0.22753799448440795, 0.6512294324898572, 0.11769206611262481, 0.14065273532389075, 0.21097910298583614, 0.6417281049152516], \"Term\": [\"activity\", \"activity\", \"activity\", \"aim\", \"aim\", \"aim\", \"analysis\", \"analysis\", \"analysis\", \"assess\", \"assess\", \"assess\", \"body\", \"body\", \"body\", \"change\", \"change\", \"change\", \"compare\", \"compare\", \"compare\", \"conclusion\", \"conclusion\", \"conclusion\", \"control\", \"control\", \"control\", \"difference\", \"difference\", \"difference\", \"different\", \"different\", \"different\", \"effect\", \"effect\", \"effect\", \"find\", \"find\", \"find\", \"group\", \"group\", \"group\", \"head\", \"head\", \"head\", \"movement\", \"movement\", \"movement\", \"muscle\", \"muscle\", \"muscle\", \"patient\", \"patient\", \"patient\", \"perform\", \"perform\", \"perform\", \"position\", \"position\", \"position\", \"postural\", \"postural\", \"postural\", \"system\", \"system\", \"system\", \"test\", \"test\", \"test\", \"time\", \"time\", \"time\"]}, \"R\": 24, \"lambda.step\": 0.01, \"plot.opts\": {\"xlab\": \"PC1\", \"ylab\": \"PC2\"}, \"topic.order\": [2, 1, 3]};\n",
       "\n",
       "function LDAvis_load_lib(url, callback){\n",
       "  var s = document.createElement('script');\n",
       "  s.src = url;\n",
       "  s.async = true;\n",
       "  s.onreadystatechange = s.onload = callback;\n",
       "  s.onerror = function(){console.warn(\"failed to load library \" + url);};\n",
       "  document.getElementsByTagName(\"head\")[0].appendChild(s);\n",
       "}\n",
       "\n",
       "if(typeof(LDAvis) !== \"undefined\"){\n",
       "   // already loaded: just create the visualization\n",
       "   !function(LDAvis){\n",
       "       new LDAvis(\"#\" + \"ldavis_el125121397633998811361124220124\", ldavis_el125121397633998811361124220124_data);\n",
       "   }(LDAvis);\n",
       "}else if(typeof define === \"function\" && define.amd){\n",
       "   // require.js is available: use it to load d3/LDAvis\n",
       "   require.config({paths: {d3: \"https://d3js.org/d3.v5\"}});\n",
       "   require([\"d3\"], function(d3){\n",
       "      window.d3 = d3;\n",
       "      LDAvis_load_lib(\"https://cdn.jsdelivr.net/gh/bmabey/pyLDAvis@3.4.0/pyLDAvis/js/ldavis.v3.0.0.js\", function(){\n",
       "        new LDAvis(\"#\" + \"ldavis_el125121397633998811361124220124\", ldavis_el125121397633998811361124220124_data);\n",
       "      });\n",
       "    });\n",
       "}else{\n",
       "    // require.js not available: dynamically load d3 & LDAvis\n",
       "    LDAvis_load_lib(\"https://d3js.org/d3.v5.js\", function(){\n",
       "         LDAvis_load_lib(\"https://cdn.jsdelivr.net/gh/bmabey/pyLDAvis@3.4.0/pyLDAvis/js/ldavis.v3.0.0.js\", function(){\n",
       "                 new LDAvis(\"#\" + \"ldavis_el125121397633998811361124220124\", ldavis_el125121397633998811361124220124_data);\n",
       "            })\n",
       "         });\n",
       "}\n",
       "</script>"
      ],
      "text/plain": [
       "<IPython.core.display.HTML object>"
      ]
     },
     "execution_count": 48,
     "metadata": {},
     "output_type": "execute_result"
    }
   ],
   "source": [
    "import pyLDAvis\n",
    "import pyLDAvis.lda_model\n",
    "vis_grid = pyLDAvis.lda_model.prepare(grid_best_model,features_train,tfidfVectorizer)\n",
    "pyLDAvis.enable_notebook()\n",
    "components_grid_display = pyLDAvis.display(vis_grid)\n",
    "components_grid_display"
   ]
  },
  {
   "cell_type": "code",
   "execution_count": 49,
   "id": "8b0d7392-466d-456f-8b5f-f9acd5670576",
   "metadata": {
    "scrolled": true
   },
   "outputs": [
    {
     "data": {
      "text/plain": [
       "dominant_topic_number\n",
       "0    606\n",
       "1    567\n",
       "2    555\n",
       "Name: count, dtype: int64"
      ]
     },
     "execution_count": 49,
     "metadata": {},
     "output_type": "execute_result"
    }
   ],
   "source": [
    "topics_output = grid_best_model.transform(features_train)\n",
    "df_topics_score = pd.DataFrame(topics_output)\n",
    "df_topics_score['dominant_topic_number']=np.argmax(topics_output, axis=1)\n",
    "df_topics_score['dominant_topic_number'].value_counts()"
   ]
  },
  {
   "cell_type": "markdown",
   "id": "43d83aae-2e51-48ad-ada6-425438bac4b8",
   "metadata": {},
   "source": [
    "### test set에 적용해보기"
   ]
  },
  {
   "cell_type": "code",
   "execution_count": 50,
   "id": "fa95d1a4-3aaa-4362-a7db-214f27c98ec5",
   "metadata": {},
   "outputs": [],
   "source": [
    "features_test = tfidfVectorizer.transform(FHP_article_test['abstract_join'])\n",
    "# grid_best_model.fit(features_test)\n",
    "import pandas as pd\n",
    "pd.set_option('display.max_colwidth', None)\n",
    "## 상위 단어 추출 \n",
    "## 0 확률 1은 dictionary\n",
    "topics_list = list()\n",
    "for topic in grid_best_model.components_:\n",
    "    df_datas = [topic, dictionary_list]\n",
    "    df_topics = pd.DataFrame(data=df_datas)\n",
    "    df_topics= df_topics.T\n",
    "    df_topics = df_topics.sort_values(0, ascending=False)\n",
    "#     print(df_topics[1].values[:10])\n",
    "#     topics_text = ' '.join(df_topics[1].values[:9])# 시리즈 형식으로 출력 get values from series / index \n",
    "#     topics_list.append(topics_text)\n",
    "# topics_list_add_grid = [['Topic1', 'Topic2','Topic3'],topics_list]\n",
    "# df_topics_keywords_grid = pd.DataFrame(topics_list_add_grid)\n",
    "# df_topics_keywords_grid=df_topics_keywords_grid.T\n",
    "# df_topics_keywords_grid"
   ]
  },
  {
   "cell_type": "code",
   "execution_count": 51,
   "id": "68b384d4-9d52-4152-ada7-d02206246780",
   "metadata": {},
   "outputs": [
    {
     "data": {
      "text/html": [
       "\n",
       "<link rel=\"stylesheet\" type=\"text/css\" href=\"https://cdn.jsdelivr.net/gh/bmabey/pyLDAvis@3.4.0/pyLDAvis/js/ldavis.v1.0.0.css\">\n",
       "\n",
       "\n",
       "<div id=\"ldavis_el125121397634138463849569235283\" style=\"background-color:white;\"></div>\n",
       "<script type=\"text/javascript\">\n",
       "\n",
       "var ldavis_el125121397634138463849569235283_data = {\"mdsDat\": {\"x\": [0.09957803804312632, -0.0015556254300005147, -0.09802241261312568], \"y\": [0.038981104438310245, -0.07984803919577356, 0.040866934757463336], \"topics\": [1, 2, 3], \"cluster\": [1, 1, 1], \"Freq\": [33.47370410183091, 33.39230664950559, 33.13398924866352]}, \"tinfo\": {\"Term\": [\"head\", \"muscle\", \"patient\", \"body\", \"postural\", \"group\", \"change\", \"analysis\", \"position\", \"movement\", \"system\", \"test\", \"time\", \"activity\", \"effect\", \"control\", \"different\", \"find\", \"perform\", \"difference\", \"compare\", \"conclusion\", \"aim\", \"assess\", \"patient\", \"body\", \"analysis\", \"postural\", \"difference\", \"conclusion\", \"aim\", \"find\", \"assess\", \"control\", \"perform\", \"different\", \"system\", \"compare\", \"test\", \"effect\", \"group\", \"time\", \"position\", \"change\", \"activity\", \"head\", \"movement\", \"muscle\", \"muscle\", \"test\", \"system\", \"effect\", \"perform\", \"compare\", \"activity\", \"movement\", \"control\", \"find\", \"postural\", \"aim\", \"conclusion\", \"difference\", \"position\", \"time\", \"assess\", \"different\", \"change\", \"analysis\", \"body\", \"group\", \"head\", \"patient\", \"head\", \"change\", \"group\", \"position\", \"time\", \"different\", \"movement\", \"activity\", \"assess\", \"effect\", \"compare\", \"aim\", \"conclusion\", \"difference\", \"control\", \"perform\", \"muscle\", \"body\", \"find\", \"analysis\", \"test\", \"system\", \"patient\", \"postural\"], \"Freq\": [150.0, 141.0, 119.0, 122.0, 141.0, 124.0, 94.0, 86.0, 107.0, 121.0, 103.0, 85.0, 76.0, 87.0, 90.0, 128.0, 73.0, 62.0, 65.0, 70.0, 77.0, 56.0, 56.0, 62.0, 98.58458563480994, 88.9209587289747, 61.11746173574434, 89.80897670447077, 38.911581070496226, 30.723472081739242, 30.058903048151993, 32.50401691078423, 29.66041179654234, 46.91247735246402, 18.609710426981795, 20.689205465053448, 27.31803660042443, 19.540159232265147, 19.67129897935176, 18.128343815958893, 24.070686661436998, 10.86456607124811, 14.61045947103438, 11.555377432640226, 9.884913482273562, 14.34692886679822, 9.976346753914505, 5.941680841054475, 112.98801313925347, 55.41987191001526, 64.80894155288398, 50.37097445213825, 35.63017507912279, 39.9948719074472, 42.93203663986383, 59.13170299874317, 59.26237205184051, 22.16367816286793, 41.501008902605854, 13.511661178909103, 12.636511306384511, 15.45575023830849, 23.042782608634404, 16.16619842791, 12.051549664040364, 13.226086663870646, 15.654500319256972, 13.887005160999532, 14.716586131188675, 14.332312503660981, 12.885721418001554, 8.761988772170483, 123.22646522076865, 67.28978893471604, 86.33334233633207, 69.93384691979499, 49.19718294732749, 39.80783564434895, 52.86554007951061, 34.680529922191, 21.00745454539468, 21.510490671787586, 18.363193293609793, 12.901136832796102, 12.81576580241943, 15.957906125698917, 21.839091915205955, 10.768120874073764, 22.99325871480512, 19.202189714571283, 8.187495462088757, 11.111405240440797, 10.352803168032258, 11.603384714545328, 11.97351834927899, 10.649842408585334], \"Total\": [150.0, 141.0, 119.0, 122.0, 141.0, 124.0, 94.0, 86.0, 107.0, 121.0, 103.0, 85.0, 76.0, 87.0, 90.0, 128.0, 73.0, 62.0, 65.0, 70.0, 77.0, 56.0, 56.0, 62.0, 119.32009275625941, 122.83973457473465, 86.11587213718468, 141.95982801566194, 70.32523743450363, 56.17574919054318, 56.471701059857196, 62.85519053574092, 62.719416005977386, 128.01394131951048, 65.00800638017834, 73.72312777327303, 103.73036286785374, 77.89822443332214, 85.44397405739927, 90.00980893988472, 124.73634150143005, 76.2279474464856, 107.58708899946377, 94.49966668661324, 87.4974800443284, 150.45911550556843, 121.97358983216829, 141.92295269511305, 141.92295269511305, 85.44397405739927, 103.73036286785374, 90.00980893988472, 65.00800638017834, 77.89822443332214, 87.4974800443284, 121.97358983216829, 128.01394131951048, 62.85519053574092, 141.95982801566194, 56.471701059857196, 56.17574919054318, 70.32523743450363, 107.58708899946377, 76.2279474464856, 62.719416005977386, 73.72312777327303, 94.49966668661324, 86.11587213718468, 122.83973457473465, 124.73634150143005, 150.45911550556843, 119.32009275625941, 150.45911550556843, 94.49966668661324, 124.73634150143005, 107.58708899946377, 76.2279474464856, 73.72312777327303, 121.97358983216829, 87.4974800443284, 62.719416005977386, 90.00980893988472, 77.89822443332214, 56.471701059857196, 56.17574919054318, 70.32523743450363, 128.01394131951048, 65.00800638017834, 141.92295269511305, 122.83973457473465, 62.85519053574092, 86.11587213718468, 85.44397405739927, 103.73036286785374, 119.32009275625941, 141.95982801566194], \"Category\": [\"Default\", \"Default\", \"Default\", \"Default\", \"Default\", \"Default\", \"Default\", \"Default\", \"Default\", \"Default\", \"Default\", \"Default\", \"Default\", \"Default\", \"Default\", \"Default\", \"Default\", \"Default\", \"Default\", \"Default\", \"Default\", \"Default\", \"Default\", \"Default\", \"Topic1\", \"Topic1\", \"Topic1\", \"Topic1\", \"Topic1\", \"Topic1\", \"Topic1\", \"Topic1\", \"Topic1\", \"Topic1\", \"Topic1\", \"Topic1\", \"Topic1\", \"Topic1\", \"Topic1\", \"Topic1\", \"Topic1\", \"Topic1\", \"Topic1\", \"Topic1\", \"Topic1\", \"Topic1\", \"Topic1\", \"Topic1\", \"Topic2\", \"Topic2\", \"Topic2\", \"Topic2\", \"Topic2\", \"Topic2\", \"Topic2\", \"Topic2\", \"Topic2\", \"Topic2\", \"Topic2\", \"Topic2\", \"Topic2\", \"Topic2\", \"Topic2\", \"Topic2\", \"Topic2\", \"Topic2\", \"Topic2\", \"Topic2\", \"Topic2\", \"Topic2\", \"Topic2\", \"Topic2\", \"Topic3\", \"Topic3\", \"Topic3\", \"Topic3\", \"Topic3\", \"Topic3\", \"Topic3\", \"Topic3\", \"Topic3\", \"Topic3\", \"Topic3\", \"Topic3\", \"Topic3\", \"Topic3\", \"Topic3\", \"Topic3\", \"Topic3\", \"Topic3\", \"Topic3\", \"Topic3\", \"Topic3\", \"Topic3\", \"Topic3\", \"Topic3\"], \"logprob\": [24.0, 23.0, 22.0, 21.0, 20.0, 19.0, 18.0, 17.0, 16.0, 15.0, 14.0, 13.0, 12.0, 11.0, 10.0, 9.0, 8.0, 7.0, 6.0, 5.0, 4.0, 3.0, 2.0, 1.0, -2.0586, -2.1618, -2.5367, -2.1518, -2.9882, -3.2245, -3.2464, -3.1682, -3.2597, -2.8012, -3.7258, -3.6199, -3.342, -3.677, -3.6704, -3.752, -3.4685, -4.264, -3.9678, -4.2024, -4.3585, -3.986, -4.3493, -4.8675, -1.9198, -2.6321, -2.4756, -2.7277, -3.0739, -2.9583, -2.8875, -2.5673, -2.5651, -3.5486, -2.9214, -4.0435, -4.1105, -3.9091, -3.5097, -3.8642, -4.1579, -4.0649, -3.8963, -4.0161, -3.9581, -3.9846, -4.091, -4.4767, -1.8253, -2.4303, -2.1811, -2.3918, -2.7435, -2.9553, -2.6716, -3.0931, -3.5944, -3.5708, -3.729, -4.082, -4.0886, -3.8694, -3.5556, -4.2627, -3.5041, -3.6843, -4.5367, -4.2313, -4.3021, -4.188, -4.1566, -4.2738], \"loglift\": [24.0, 23.0, 22.0, 21.0, 20.0, 19.0, 18.0, 17.0, 16.0, 15.0, 14.0, 13.0, 12.0, 11.0, 10.0, 9.0, 8.0, 7.0, 6.0, 5.0, 4.0, 3.0, 2.0, 1.0, 0.9035, 0.7713, 0.7515, 0.6366, 0.5026, 0.491, 0.4638, 0.4349, 0.3456, 0.0906, -0.1564, -0.1763, -0.2398, -0.2885, -0.3743, -0.508, -0.5508, -0.8538, -0.9022, -1.007, -1.0862, -1.2557, -1.4092, -2.0789, 0.8688, 0.6639, 0.6265, 0.5163, 0.4955, 0.4302, 0.3849, 0.3728, 0.3267, 0.0545, -0.133, -0.3333, -0.3951, -0.4183, -0.4441, -0.454, -0.5526, -0.6213, -0.701, -0.7279, -1.0251, -1.0668, -1.3607, -1.5145, 0.9049, 0.765, 0.7366, 0.6739, 0.6667, 0.4884, 0.2686, 0.1792, 0.0108, -0.3268, -0.3404, -0.3718, -0.3732, -0.3786, -0.6638, -0.6933, -0.7155, -0.7512, -0.9336, -0.9431, -1.006, -1.0859, -1.1945, -1.4854]}, \"token.table\": {\"Topic\": [1, 2, 3, 1, 2, 3, 1, 2, 3, 1, 2, 3, 1, 2, 3, 1, 2, 3, 1, 2, 3, 1, 2, 3, 1, 2, 3, 1, 2, 3, 1, 2, 3, 1, 2, 3, 1, 2, 3, 1, 2, 3, 1, 2, 3, 1, 2, 3, 1, 2, 3, 1, 2, 3, 1, 2, 3, 1, 2, 3, 1, 2, 3, 1, 2, 3, 1, 2, 3, 1, 2, 3], \"Freq\": [0.11428900575117994, 0.4914427247300737, 0.40001152012912977, 0.5312395312512632, 0.2479117812505895, 0.23020379687554737, 0.7083479326880127, 0.1625716566824947, 0.12773487310767442, 0.4783207802371899, 0.19132831209487597, 0.3348245461660329, 0.7245212659251812, 0.12211032571772718, 0.1546730792424544, 0.12698457487469542, 0.1693127664995939, 0.7089972097170495, 0.25674526146766313, 0.5134905229353263, 0.23107073532089684, 0.5518395472546479, 0.23141658433259427, 0.23141658433259427, 0.3671475115565149, 0.46088730174115705, 0.17185628200517722, 0.5545662044343905, 0.21329469401322715, 0.22751434028077563, 0.2848495531088029, 0.17633543763878276, 0.5425705773501007, 0.1999782047312393, 0.5554950131423314, 0.2444178057826258, 0.5250163068272848, 0.35001087121818986, 0.12727668044297813, 0.19240583546956802, 0.11223673735724801, 0.6894542437659521, 0.09304853317100528, 0.08640220937307634, 0.8174978271452608, 0.08198496095556158, 0.4837112696378133, 0.43452029306447637, 0.04227645976961557, 0.7962066589944264, 0.162059762450193, 0.8297009976536962, 0.07542736342306329, 0.10056981789741772, 0.2922716917187805, 0.5537779422040051, 0.16920992678455712, 0.13942193379797424, 0.21378029849022714, 0.6506356910572131, 0.6339821712806711, 0.29585834659764654, 0.07748670982319314, 0.2602902299146141, 0.6266246275722192, 0.11568454662871738, 0.2340715096721094, 0.6436966515983009, 0.1170357548360547, 0.1443040298011742, 0.20989677061988976, 0.6428088600234124], \"Term\": [\"activity\", \"activity\", \"activity\", \"aim\", \"aim\", \"aim\", \"analysis\", \"analysis\", \"analysis\", \"assess\", \"assess\", \"assess\", \"body\", \"body\", \"body\", \"change\", \"change\", \"change\", \"compare\", \"compare\", \"compare\", \"conclusion\", \"conclusion\", \"conclusion\", \"control\", \"control\", \"control\", \"difference\", \"difference\", \"difference\", \"different\", \"different\", \"different\", \"effect\", \"effect\", \"effect\", \"find\", \"find\", \"find\", \"group\", \"group\", \"group\", \"head\", \"head\", \"head\", \"movement\", \"movement\", \"movement\", \"muscle\", \"muscle\", \"muscle\", \"patient\", \"patient\", \"patient\", \"perform\", \"perform\", \"perform\", \"position\", \"position\", \"position\", \"postural\", \"postural\", \"postural\", \"system\", \"system\", \"system\", \"test\", \"test\", \"test\", \"time\", \"time\", \"time\"]}, \"R\": 24, \"lambda.step\": 0.01, \"plot.opts\": {\"xlab\": \"PC1\", \"ylab\": \"PC2\"}, \"topic.order\": [2, 1, 3]};\n",
       "\n",
       "function LDAvis_load_lib(url, callback){\n",
       "  var s = document.createElement('script');\n",
       "  s.src = url;\n",
       "  s.async = true;\n",
       "  s.onreadystatechange = s.onload = callback;\n",
       "  s.onerror = function(){console.warn(\"failed to load library \" + url);};\n",
       "  document.getElementsByTagName(\"head\")[0].appendChild(s);\n",
       "}\n",
       "\n",
       "if(typeof(LDAvis) !== \"undefined\"){\n",
       "   // already loaded: just create the visualization\n",
       "   !function(LDAvis){\n",
       "       new LDAvis(\"#\" + \"ldavis_el125121397634138463849569235283\", ldavis_el125121397634138463849569235283_data);\n",
       "   }(LDAvis);\n",
       "}else if(typeof define === \"function\" && define.amd){\n",
       "   // require.js is available: use it to load d3/LDAvis\n",
       "   require.config({paths: {d3: \"https://d3js.org/d3.v5\"}});\n",
       "   require([\"d3\"], function(d3){\n",
       "      window.d3 = d3;\n",
       "      LDAvis_load_lib(\"https://cdn.jsdelivr.net/gh/bmabey/pyLDAvis@3.4.0/pyLDAvis/js/ldavis.v3.0.0.js\", function(){\n",
       "        new LDAvis(\"#\" + \"ldavis_el125121397634138463849569235283\", ldavis_el125121397634138463849569235283_data);\n",
       "      });\n",
       "    });\n",
       "}else{\n",
       "    // require.js not available: dynamically load d3 & LDAvis\n",
       "    LDAvis_load_lib(\"https://d3js.org/d3.v5.js\", function(){\n",
       "         LDAvis_load_lib(\"https://cdn.jsdelivr.net/gh/bmabey/pyLDAvis@3.4.0/pyLDAvis/js/ldavis.v3.0.0.js\", function(){\n",
       "                 new LDAvis(\"#\" + \"ldavis_el125121397634138463849569235283\", ldavis_el125121397634138463849569235283_data);\n",
       "            })\n",
       "         });\n",
       "}\n",
       "</script>"
      ],
      "text/plain": [
       "<IPython.core.display.HTML object>"
      ]
     },
     "execution_count": 51,
     "metadata": {},
     "output_type": "execute_result"
    }
   ],
   "source": [
    "import pyLDAvis\n",
    "import pyLDAvis.lda_model\n",
    "vis_grid = pyLDAvis.lda_model.prepare(grid_best_model,features_test,tfidfVectorizer)\n",
    "pyLDAvis.enable_notebook()\n",
    "components_grid_display = pyLDAvis.display(vis_grid)\n",
    "components_grid_display"
   ]
  },
  {
   "cell_type": "code",
   "execution_count": 52,
   "id": "b59474a3-cc13-48dd-bc68-776c4af4e676",
   "metadata": {},
   "outputs": [
    {
     "data": {
      "text/plain": [
       "dominant_topic_number\n",
       "0    401\n",
       "1    385\n",
       "2    366\n",
       "Name: count, dtype: int64"
      ]
     },
     "execution_count": 52,
     "metadata": {},
     "output_type": "execute_result"
    }
   ],
   "source": [
    "topics_output = grid_best_model.transform(features_test)\n",
    "df_topics_score = pd.DataFrame(topics_output)\n",
    "df_topics_score['dominant_topic_number']=np.argmax(topics_output, axis=1)\n",
    "df_topics_score['dominant_topic_number'].value_counts()"
   ]
  },
  {
   "cell_type": "markdown",
   "id": "6b0fd2a9-2f8e-4c39-bf1b-a95cd54150db",
   "metadata": {},
   "source": [
    "### 전체 데이터에 적용"
   ]
  },
  {
   "cell_type": "code",
   "execution_count": 58,
   "id": "30b014a5-39a3-40f2-9cd5-39f0dda33d40",
   "metadata": {},
   "outputs": [],
   "source": [
    "features = tfidfVectorizer.transform(FHP_article['abstract_join'])\n",
    "\n",
    "# grid_best_model.fit(features)\n",
    "import pandas as pd\n",
    "pd.set_option('display.max_colwidth', None)\n",
    "## 상위 단어 추출 \n",
    "## 0 확률 1은 dictionary\n",
    "topics_list = list()\n",
    "for topic in grid_best_model.components_:\n",
    "    df_datas = [topic, dictionary_list]\n",
    "    df_topics = pd.DataFrame(data=df_datas)\n",
    "    df_topics= df_topics.T\n",
    "    df_topics = df_topics.sort_values(0, ascending=False)\n",
    "    # print(df_topics[:3])\n",
    "#     # topics_text = ' '.join(df_topics[1].values[:10])# 시리즈 형식으로 출력 get values from series / index \n",
    "#     # topics_list.append(topics_text)\n",
    "# topics_list_add_grid = [['Topic1', 'Topic2','Topic3'],topics_list]\n",
    "# df_topics_keywords_grid = pd.DataFrame(topics_list_add_grid)\n",
    "# df_topics_keywords_grid=df_topics_keywords_grid.T\n",
    "# df_topics_keywords_grid"
   ]
  },
  {
   "cell_type": "code",
   "execution_count": 59,
   "id": "7cc2885e-d0bb-4faa-99f5-8df879078c6d",
   "metadata": {
    "scrolled": true
   },
   "outputs": [
    {
     "data": {
      "text/html": [
       "<div>\n",
       "<style scoped>\n",
       "    .dataframe tbody tr th:only-of-type {\n",
       "        vertical-align: middle;\n",
       "    }\n",
       "\n",
       "    .dataframe tbody tr th {\n",
       "        vertical-align: top;\n",
       "    }\n",
       "\n",
       "    .dataframe thead th {\n",
       "        text-align: right;\n",
       "    }\n",
       "</style>\n",
       "<table border=\"1\" class=\"dataframe\">\n",
       "  <thead>\n",
       "    <tr style=\"text-align: right;\">\n",
       "      <th></th>\n",
       "      <th>score</th>\n",
       "      <th>first_components</th>\n",
       "      <th>score</th>\n",
       "      <th>second_components</th>\n",
       "      <th>score</th>\n",
       "      <th>third_components</th>\n",
       "    </tr>\n",
       "  </thead>\n",
       "  <tbody>\n",
       "    <tr>\n",
       "      <th>0</th>\n",
       "      <td>171.028414</td>\n",
       "      <td>muscle</td>\n",
       "      <td>151.49683</td>\n",
       "      <td>patient</td>\n",
       "      <td>187.34375</td>\n",
       "      <td>head</td>\n",
       "    </tr>\n",
       "    <tr>\n",
       "      <th>1</th>\n",
       "      <td>98.10041</td>\n",
       "      <td>system</td>\n",
       "      <td>138.011183</td>\n",
       "      <td>postural</td>\n",
       "      <td>131.25437</td>\n",
       "      <td>group</td>\n",
       "    </tr>\n",
       "    <tr>\n",
       "      <th>2</th>\n",
       "      <td>89.704644</td>\n",
       "      <td>control</td>\n",
       "      <td>136.646549</td>\n",
       "      <td>body</td>\n",
       "      <td>106.321877</td>\n",
       "      <td>position</td>\n",
       "    </tr>\n",
       "    <tr>\n",
       "      <th>3</th>\n",
       "      <td>89.506852</td>\n",
       "      <td>movement</td>\n",
       "      <td>93.92038</td>\n",
       "      <td>analysis</td>\n",
       "      <td>102.302061</td>\n",
       "      <td>change</td>\n",
       "    </tr>\n",
       "    <tr>\n",
       "      <th>4</th>\n",
       "      <td>83.888304</td>\n",
       "      <td>test</td>\n",
       "      <td>72.091307</td>\n",
       "      <td>control</td>\n",
       "      <td>80.372577</td>\n",
       "      <td>movement</td>\n",
       "    </tr>\n",
       "    <tr>\n",
       "      <th>5</th>\n",
       "      <td>76.245857</td>\n",
       "      <td>effect</td>\n",
       "      <td>59.796176</td>\n",
       "      <td>difference</td>\n",
       "      <td>74.795497</td>\n",
       "      <td>time</td>\n",
       "    </tr>\n",
       "    <tr>\n",
       "      <th>6</th>\n",
       "      <td>64.985638</td>\n",
       "      <td>activity</td>\n",
       "      <td>49.949548</td>\n",
       "      <td>find</td>\n",
       "      <td>60.520678</td>\n",
       "      <td>different</td>\n",
       "    </tr>\n",
       "    <tr>\n",
       "      <th>7</th>\n",
       "      <td>62.819511</td>\n",
       "      <td>postural</td>\n",
       "      <td>47.213351</td>\n",
       "      <td>conclusion</td>\n",
       "      <td>52.725529</td>\n",
       "      <td>activity</td>\n",
       "    </tr>\n",
       "    <tr>\n",
       "      <th>8</th>\n",
       "      <td>60.539692</td>\n",
       "      <td>compare</td>\n",
       "      <td>46.192095</td>\n",
       "      <td>aim</td>\n",
       "      <td>34.957128</td>\n",
       "      <td>muscle</td>\n",
       "    </tr>\n",
       "    <tr>\n",
       "      <th>9</th>\n",
       "      <td>53.93291</td>\n",
       "      <td>perform</td>\n",
       "      <td>45.579726</td>\n",
       "      <td>assess</td>\n",
       "      <td>33.202424</td>\n",
       "      <td>control</td>\n",
       "    </tr>\n",
       "    <tr>\n",
       "      <th>10</th>\n",
       "      <td>34.879546</td>\n",
       "      <td>position</td>\n",
       "      <td>41.980153</td>\n",
       "      <td>system</td>\n",
       "      <td>32.702845</td>\n",
       "      <td>effect</td>\n",
       "    </tr>\n",
       "    <tr>\n",
       "      <th>11</th>\n",
       "      <td>33.548857</td>\n",
       "      <td>find</td>\n",
       "      <td>36.989888</td>\n",
       "      <td>group</td>\n",
       "      <td>31.938069</td>\n",
       "      <td>assess</td>\n",
       "    </tr>\n",
       "    <tr>\n",
       "      <th>12</th>\n",
       "      <td>24.470554</td>\n",
       "      <td>time</td>\n",
       "      <td>31.7935</td>\n",
       "      <td>different</td>\n",
       "      <td>29.193487</td>\n",
       "      <td>body</td>\n",
       "    </tr>\n",
       "    <tr>\n",
       "      <th>13</th>\n",
       "      <td>23.696004</td>\n",
       "      <td>change</td>\n",
       "      <td>30.229264</td>\n",
       "      <td>test</td>\n",
       "      <td>27.917943</td>\n",
       "      <td>compare</td>\n",
       "    </tr>\n",
       "    <tr>\n",
       "      <th>14</th>\n",
       "      <td>23.395158</td>\n",
       "      <td>difference</td>\n",
       "      <td>30.027739</td>\n",
       "      <td>compare</td>\n",
       "      <td>24.261136</td>\n",
       "      <td>difference</td>\n",
       "    </tr>\n",
       "    <tr>\n",
       "      <th>15</th>\n",
       "      <td>22.276296</td>\n",
       "      <td>body</td>\n",
       "      <td>28.5979</td>\n",
       "      <td>perform</td>\n",
       "      <td>19.613866</td>\n",
       "      <td>aim</td>\n",
       "    </tr>\n",
       "    <tr>\n",
       "      <th>16</th>\n",
       "      <td>21.694626</td>\n",
       "      <td>group</td>\n",
       "      <td>27.858175</td>\n",
       "      <td>effect</td>\n",
       "      <td>19.484074</td>\n",
       "      <td>conclusion</td>\n",
       "    </tr>\n",
       "    <tr>\n",
       "      <th>17</th>\n",
       "      <td>21.02057</td>\n",
       "      <td>analysis</td>\n",
       "      <td>22.452174</td>\n",
       "      <td>position</td>\n",
       "      <td>18.203588</td>\n",
       "      <td>patient</td>\n",
       "    </tr>\n",
       "    <tr>\n",
       "      <th>18</th>\n",
       "      <td>20.452417</td>\n",
       "      <td>aim</td>\n",
       "      <td>22.047202</td>\n",
       "      <td>head</td>\n",
       "      <td>17.640866</td>\n",
       "      <td>system</td>\n",
       "    </tr>\n",
       "    <tr>\n",
       "      <th>19</th>\n",
       "      <td>20.020147</td>\n",
       "      <td>different</td>\n",
       "      <td>17.757371</td>\n",
       "      <td>change</td>\n",
       "      <td>16.8929</td>\n",
       "      <td>analysis</td>\n",
       "    </tr>\n",
       "    <tr>\n",
       "      <th>20</th>\n",
       "      <td>19.504941</td>\n",
       "      <td>head</td>\n",
       "      <td>16.695788</td>\n",
       "      <td>time</td>\n",
       "      <td>16.370997</td>\n",
       "      <td>perform</td>\n",
       "    </tr>\n",
       "  </tbody>\n",
       "</table>\n",
       "</div>"
      ],
      "text/plain": [
       "         score first_components       score second_components       score  \\\n",
       "0   171.028414           muscle   151.49683           patient   187.34375   \n",
       "1     98.10041           system  138.011183          postural   131.25437   \n",
       "2    89.704644          control  136.646549              body  106.321877   \n",
       "3    89.506852         movement    93.92038          analysis  102.302061   \n",
       "4    83.888304             test   72.091307           control   80.372577   \n",
       "5    76.245857           effect   59.796176        difference   74.795497   \n",
       "6    64.985638         activity   49.949548              find   60.520678   \n",
       "7    62.819511         postural   47.213351        conclusion   52.725529   \n",
       "8    60.539692          compare   46.192095               aim   34.957128   \n",
       "9     53.93291          perform   45.579726            assess   33.202424   \n",
       "10   34.879546         position   41.980153            system   32.702845   \n",
       "11   33.548857             find   36.989888             group   31.938069   \n",
       "12   24.470554             time     31.7935         different   29.193487   \n",
       "13   23.696004           change   30.229264              test   27.917943   \n",
       "14   23.395158       difference   30.027739           compare   24.261136   \n",
       "15   22.276296             body     28.5979           perform   19.613866   \n",
       "16   21.694626            group   27.858175            effect   19.484074   \n",
       "17    21.02057         analysis   22.452174          position   18.203588   \n",
       "18   20.452417              aim   22.047202              head   17.640866   \n",
       "19   20.020147        different   17.757371            change     16.8929   \n",
       "20   19.504941             head   16.695788              time   16.370997   \n",
       "\n",
       "   third_components  \n",
       "0              head  \n",
       "1             group  \n",
       "2          position  \n",
       "3            change  \n",
       "4          movement  \n",
       "5              time  \n",
       "6         different  \n",
       "7          activity  \n",
       "8            muscle  \n",
       "9           control  \n",
       "10           effect  \n",
       "11           assess  \n",
       "12             body  \n",
       "13          compare  \n",
       "14       difference  \n",
       "15              aim  \n",
       "16       conclusion  \n",
       "17          patient  \n",
       "18           system  \n",
       "19         analysis  \n",
       "20          perform  "
      ]
     },
     "execution_count": 59,
     "metadata": {},
     "output_type": "execute_result"
    }
   ],
   "source": [
    "df_datas_0 = [grid_best_model.components_[0], dictionary_list]\n",
    "df_topics_0 = pd.DataFrame(data=df_datas_0).T\n",
    "df_topics_0 = df_topics_0.dropna()\n",
    "df_topics_0 = df_topics_0.sort_values(0, ascending=False).reset_index()\n",
    "df_topics_0.rename(columns = {1 : 'first_components'}, inplace = True)\n",
    "df_topics_0.rename(columns = {0 : 'score'}, inplace = True)\n",
    "df_datas_1 = [grid_best_model.components_[1], dictionary_list]\n",
    "df_topics_1 = pd.DataFrame(data=df_datas_1).T\n",
    "df_topics_1 = df_topics_1.dropna()\n",
    "df_topics_1 = df_topics_1.sort_values(0, ascending=False).reset_index()\n",
    "df_topics_1.rename(columns = {1 : 'second_components'}, inplace = True)\n",
    "df_topics_1.rename(columns = {0 : 'score'}, inplace = True)\n",
    "df_datas_2 = [grid_best_model.components_[2], dictionary_list]\n",
    "df_topics_2 = pd.DataFrame(data=df_datas_2).T\n",
    "df_topics_2 = df_topics_2.dropna()\n",
    "df_topics_2 = df_topics_2.sort_values(0, ascending=False).reset_index()\n",
    "df_topics_2.rename(columns = {1 : 'third_components'}, inplace = True)\n",
    "df_topics_2.rename(columns = {0 : 'score'}, inplace = True)\n",
    "df_topic = pd.concat([df_topics_0.loc[:20,['score','first_components']],df_topics_1.loc[:20,['score','second_components']],df_topics_2.loc[:20,['score','third_components']]],axis=1)\n",
    "df_topic"
   ]
  },
  {
   "cell_type": "code",
   "execution_count": 60,
   "id": "a3610f54-170e-4430-8588-192ea0330505",
   "metadata": {},
   "outputs": [
    {
     "data": {
      "text/html": [
       "\n",
       "<link rel=\"stylesheet\" type=\"text/css\" href=\"https://cdn.jsdelivr.net/gh/bmabey/pyLDAvis@3.4.0/pyLDAvis/js/ldavis.v1.0.0.css\">\n",
       "\n",
       "\n",
       "<div id=\"ldavis_el125121397634339922886679500486\" style=\"background-color:white;\"></div>\n",
       "<script type=\"text/javascript\">\n",
       "\n",
       "var ldavis_el125121397634339922886679500486_data = {\"mdsDat\": {\"x\": [0.09957803804312632, -0.0015556254300005147, -0.09802241261312568], \"y\": [0.038981104438310245, -0.07984803919577356, 0.040866934757463336], \"topics\": [1, 2, 3], \"cluster\": [1, 1, 1], \"Freq\": [33.49665972836136, 33.368356267160834, 33.13498400447779]}, \"tinfo\": {\"Term\": [\"head\", \"muscle\", \"patient\", \"body\", \"postural\", \"group\", \"change\", \"analysis\", \"position\", \"movement\", \"system\", \"test\", \"time\", \"activity\", \"effect\", \"control\", \"different\", \"find\", \"perform\", \"difference\", \"compare\", \"conclusion\", \"aim\", \"assess\", \"patient\", \"body\", \"analysis\", \"postural\", \"difference\", \"conclusion\", \"aim\", \"find\", \"assess\", \"control\", \"perform\", \"different\", \"system\", \"compare\", \"test\", \"effect\", \"group\", \"time\", \"position\", \"change\", \"activity\", \"head\", \"movement\", \"muscle\", \"muscle\", \"test\", \"system\", \"effect\", \"perform\", \"compare\", \"activity\", \"movement\", \"control\", \"find\", \"postural\", \"aim\", \"conclusion\", \"difference\", \"position\", \"time\", \"assess\", \"different\", \"change\", \"analysis\", \"body\", \"group\", \"head\", \"patient\", \"head\", \"change\", \"group\", \"position\", \"time\", \"different\", \"movement\", \"activity\", \"assess\", \"effect\", \"compare\", \"aim\", \"conclusion\", \"difference\", \"control\", \"perform\", \"muscle\", \"body\", \"find\", \"analysis\", \"test\", \"system\", \"patient\", \"postural\"], \"Freq\": [375.0, 353.0, 297.0, 306.0, 353.0, 310.0, 235.0, 214.0, 268.0, 303.0, 258.0, 212.0, 189.0, 218.0, 224.0, 319.0, 183.0, 156.0, 161.0, 175.0, 194.0, 140.0, 140.0, 156.0, 245.87995113211792, 221.77788592521406, 152.43314569045282, 223.99269278384648, 97.04942806706663, 76.62745413416474, 74.96995159002812, 81.06831345040597, 73.97607400925386, 117.00447452951028, 46.41450446745564, 51.60097591274413, 68.13395279886463, 48.735138117238186, 49.062213941491066, 45.21392733835573, 60.03473283292725, 27.097329237309236, 36.439967137086086, 28.82028280745266, 24.65397636269451, 35.78269509324514, 24.882020211721823, 14.819154388424613, 281.40845351963395, 138.02898214727063, 161.41344121313156, 125.45417543879886, 88.74067424561488, 99.61140778995144, 106.9267234780244, 147.27368534527858, 147.59913027641193, 55.20095648051286, 103.36259936169755, 33.65220408072756, 31.472551873536993, 38.49416103270761, 57.390457965599445, 40.263606487909854, 30.015643777122445, 32.94095090962748, 38.98916887789985, 34.58703749007152, 36.65319558422727, 35.696121959809496, 32.09323569798106, 21.822648629939287, 307.1378947354572, 167.7175765252632, 215.1830044232048, 174.3078037271935, 122.62235365013622, 99.2197156014808, 131.76561264647256, 86.44007542964505, 52.36038663661903, 53.614187567769626, 45.769652799137546, 32.15565746708792, 31.94287299344168, 39.774553973062915, 54.433215314205064, 26.839185637555186, 57.309937943287686, 47.86082366866651, 20.407062029060164, 27.694810582997473, 25.804019972035075, 28.921053173489756, 29.84359903357923, 26.54438046873392], \"Total\": [375.0, 353.0, 297.0, 306.0, 353.0, 310.0, 235.0, 214.0, 268.0, 303.0, 258.0, 212.0, 189.0, 218.0, 224.0, 319.0, 183.0, 156.0, 161.0, 175.0, 194.0, 140.0, 140.0, 156.0, 297.5461987956364, 306.29190517810787, 214.7149937635218, 353.89967261427796, 175.31814307283716, 140.0428790011434, 140.7778131378436, 156.676331959979, 156.35210442299535, 319.0368201201273, 161.99436435062572, 183.7616424238524, 258.46844718548596, 194.11619870632717, 212.89521606079677, 224.2822903449242, 310.91385921594156, 189.9832893753553, 268.13822882987904, 235.52702821061573, 218.02077527036397, 375.01382552668343, 303.921318203473, 353.5375458513463, 353.5375458513463, 212.89521606079677, 258.46844718548596, 224.2822903449242, 161.99436435062572, 194.11619870632717, 218.02077527036397, 303.921318203473, 319.0368201201273, 156.676331959979, 353.89967261427796, 140.7778131378436, 140.0428790011434, 175.31814307283716, 268.13822882987904, 189.9832893753553, 156.35210442299535, 183.7616424238524, 235.52702821061573, 214.7149937635218, 306.29190517810787, 310.91385921594156, 375.01382552668343, 297.5461987956364, 375.01382552668343, 235.52702821061573, 310.91385921594156, 268.13822882987904, 189.9832893753553, 183.7616424238524, 303.921318203473, 218.02077527036397, 156.35210442299535, 224.2822903449242, 194.11619870632717, 140.7778131378436, 140.0428790011434, 175.31814307283716, 319.0368201201273, 161.99436435062572, 353.5375458513463, 306.29190517810787, 156.676331959979, 214.7149937635218, 212.89521606079677, 258.46844718548596, 297.5461987956364, 353.89967261427796], \"Category\": [\"Default\", \"Default\", \"Default\", \"Default\", \"Default\", \"Default\", \"Default\", \"Default\", \"Default\", \"Default\", \"Default\", \"Default\", \"Default\", \"Default\", \"Default\", \"Default\", \"Default\", \"Default\", \"Default\", \"Default\", \"Default\", \"Default\", \"Default\", \"Default\", \"Topic1\", \"Topic1\", \"Topic1\", \"Topic1\", \"Topic1\", \"Topic1\", \"Topic1\", \"Topic1\", \"Topic1\", \"Topic1\", \"Topic1\", \"Topic1\", \"Topic1\", \"Topic1\", \"Topic1\", \"Topic1\", \"Topic1\", \"Topic1\", \"Topic1\", \"Topic1\", \"Topic1\", \"Topic1\", \"Topic1\", \"Topic1\", \"Topic2\", \"Topic2\", \"Topic2\", \"Topic2\", \"Topic2\", \"Topic2\", \"Topic2\", \"Topic2\", \"Topic2\", \"Topic2\", \"Topic2\", \"Topic2\", \"Topic2\", \"Topic2\", \"Topic2\", \"Topic2\", \"Topic2\", \"Topic2\", \"Topic2\", \"Topic2\", \"Topic2\", \"Topic2\", \"Topic2\", \"Topic2\", \"Topic3\", \"Topic3\", \"Topic3\", \"Topic3\", \"Topic3\", \"Topic3\", \"Topic3\", \"Topic3\", \"Topic3\", \"Topic3\", \"Topic3\", \"Topic3\", \"Topic3\", \"Topic3\", \"Topic3\", \"Topic3\", \"Topic3\", \"Topic3\", \"Topic3\", \"Topic3\", \"Topic3\", \"Topic3\", \"Topic3\", \"Topic3\"], \"logprob\": [24.0, 23.0, 22.0, 21.0, 20.0, 19.0, 18.0, 17.0, 16.0, 15.0, 14.0, 13.0, 12.0, 11.0, 10.0, 9.0, 8.0, 7.0, 6.0, 5.0, 4.0, 3.0, 2.0, 1.0, -2.0586, -2.1618, -2.5367, -2.1518, -2.9882, -3.2245, -3.2464, -3.1682, -3.2597, -2.8012, -3.7258, -3.6199, -3.342, -3.677, -3.6704, -3.752, -3.4685, -4.264, -3.9678, -4.2024, -4.3585, -3.986, -4.3493, -4.8675, -1.9198, -2.6321, -2.4756, -2.7277, -3.0739, -2.9583, -2.8875, -2.5673, -2.5651, -3.5486, -2.9214, -4.0435, -4.1105, -3.9091, -3.5097, -3.8642, -4.1579, -4.0649, -3.8963, -4.0161, -3.9581, -3.9846, -4.091, -4.4767, -1.8253, -2.4303, -2.1811, -2.3918, -2.7435, -2.9553, -2.6716, -3.0931, -3.5944, -3.5708, -3.729, -4.082, -4.0886, -3.8694, -3.5556, -4.2627, -3.5041, -3.6843, -4.5367, -4.2313, -4.3021, -4.188, -4.1566, -4.2738], \"loglift\": [24.0, 23.0, 22.0, 21.0, 20.0, 19.0, 18.0, 17.0, 16.0, 15.0, 14.0, 13.0, 12.0, 11.0, 10.0, 9.0, 8.0, 7.0, 6.0, 5.0, 4.0, 3.0, 2.0, 1.0, 0.903, 0.7709, 0.7511, 0.6363, 0.5023, 0.4907, 0.4636, 0.4348, 0.3454, 0.0906, -0.1562, -0.1764, -0.2396, -0.2883, -0.374, -0.5078, -0.5509, -0.8538, -0.9021, -1.007, -1.0859, -1.2558, -1.4089, -2.0783, 0.8694, 0.6642, 0.6268, 0.5166, 0.4957, 0.4304, 0.3851, 0.3731, 0.3268, 0.0544, -0.1332, -0.3335, -0.3953, -0.4185, -0.4441, -0.4539, -0.5528, -0.6214, -0.701, -0.7283, -1.0255, -1.0669, -1.3608, -1.5151, 0.9049, 0.765, 0.7366, 0.6739, 0.6668, 0.4883, 0.2688, 0.1794, 0.0106, -0.3265, -0.3403, -0.372, -0.3734, -0.3788, -0.6638, -0.6931, -0.7149, -0.7517, -0.9337, -0.9435, -1.0057, -1.0856, -1.195, -1.4856]}, \"token.table\": {\"Topic\": [1, 2, 3, 1, 2, 3, 1, 2, 3, 1, 2, 3, 1, 2, 3, 1, 2, 3, 1, 2, 3, 1, 2, 3, 1, 2, 3, 1, 2, 3, 1, 2, 3, 1, 2, 3, 1, 2, 3, 1, 2, 3, 1, 2, 3, 1, 2, 3, 1, 2, 3, 1, 2, 3, 1, 2, 3, 1, 2, 3, 1, 2, 3, 1, 2, 3, 1, 2, 3, 1, 2, 3], \"Freq\": [0.11466797129309311, 0.4907789171344385, 0.3944578212482403, 0.5327544044640274, 0.24151533002369244, 0.2273085459046517, 0.7079151638911929, 0.16300678115915626, 0.13040542492732501, 0.47329071951471935, 0.1918746160194808, 0.33258266776710005, 0.7247987826217857, 0.12079979710363095, 0.15671325029660232, 0.1231281191815798, 0.16558609131315905, 0.7132939318105312, 0.25242612582853374, 0.5151553588337423, 0.23697146506352146, 0.5498315983590377, 0.2213607733653269, 0.22850144347388582, 0.3667288307222529, 0.4638962986913968, 0.1692594603333475, 0.5532798733768283, 0.21674881637442756, 0.2281566488151869, 0.2829752679292028, 0.17958045849353257, 0.5387413754805976, 0.20064000564108028, 0.5573333490030008, 0.24076800676929636, 0.5169893817828876, 0.3510421728155409, 0.12765169920565123, 0.1929794964795304, 0.11578769788771823, 0.6915098623849839, 0.09599646079565267, 0.08533018737391349, 0.8186364851184825, 0.08225813229482866, 0.48367781789359254, 0.43432293851669534, 0.042428308325439146, 0.7948236426298934, 0.16122757163666876, 0.8267623683169958, 0.07393809797956873, 0.10082467906304826, 0.2839604956900608, 0.5494018286177265, 0.16667246486155746, 0.1342591101503855, 0.21257692440477702, 0.6489190323935299, 0.6329477457418896, 0.29104293665810105, 0.07629280863853134, 0.26308820569963354, 0.6229000164358971, 0.11219938184249077, 0.2301601741300143, 0.6482062046926933, 0.12212580668123207, 0.1421177625083401, 0.21054483334568905, 0.6474253625379939], \"Term\": [\"activity\", \"activity\", \"activity\", \"aim\", \"aim\", \"aim\", \"analysis\", \"analysis\", \"analysis\", \"assess\", \"assess\", \"assess\", \"body\", \"body\", \"body\", \"change\", \"change\", \"change\", \"compare\", \"compare\", \"compare\", \"conclusion\", \"conclusion\", \"conclusion\", \"control\", \"control\", \"control\", \"difference\", \"difference\", \"difference\", \"different\", \"different\", \"different\", \"effect\", \"effect\", \"effect\", \"find\", \"find\", \"find\", \"group\", \"group\", \"group\", \"head\", \"head\", \"head\", \"movement\", \"movement\", \"movement\", \"muscle\", \"muscle\", \"muscle\", \"patient\", \"patient\", \"patient\", \"perform\", \"perform\", \"perform\", \"position\", \"position\", \"position\", \"postural\", \"postural\", \"postural\", \"system\", \"system\", \"system\", \"test\", \"test\", \"test\", \"time\", \"time\", \"time\"]}, \"R\": 24, \"lambda.step\": 0.01, \"plot.opts\": {\"xlab\": \"PC1\", \"ylab\": \"PC2\"}, \"topic.order\": [2, 1, 3]};\n",
       "\n",
       "function LDAvis_load_lib(url, callback){\n",
       "  var s = document.createElement('script');\n",
       "  s.src = url;\n",
       "  s.async = true;\n",
       "  s.onreadystatechange = s.onload = callback;\n",
       "  s.onerror = function(){console.warn(\"failed to load library \" + url);};\n",
       "  document.getElementsByTagName(\"head\")[0].appendChild(s);\n",
       "}\n",
       "\n",
       "if(typeof(LDAvis) !== \"undefined\"){\n",
       "   // already loaded: just create the visualization\n",
       "   !function(LDAvis){\n",
       "       new LDAvis(\"#\" + \"ldavis_el125121397634339922886679500486\", ldavis_el125121397634339922886679500486_data);\n",
       "   }(LDAvis);\n",
       "}else if(typeof define === \"function\" && define.amd){\n",
       "   // require.js is available: use it to load d3/LDAvis\n",
       "   require.config({paths: {d3: \"https://d3js.org/d3.v5\"}});\n",
       "   require([\"d3\"], function(d3){\n",
       "      window.d3 = d3;\n",
       "      LDAvis_load_lib(\"https://cdn.jsdelivr.net/gh/bmabey/pyLDAvis@3.4.0/pyLDAvis/js/ldavis.v3.0.0.js\", function(){\n",
       "        new LDAvis(\"#\" + \"ldavis_el125121397634339922886679500486\", ldavis_el125121397634339922886679500486_data);\n",
       "      });\n",
       "    });\n",
       "}else{\n",
       "    // require.js not available: dynamically load d3 & LDAvis\n",
       "    LDAvis_load_lib(\"https://d3js.org/d3.v5.js\", function(){\n",
       "         LDAvis_load_lib(\"https://cdn.jsdelivr.net/gh/bmabey/pyLDAvis@3.4.0/pyLDAvis/js/ldavis.v3.0.0.js\", function(){\n",
       "                 new LDAvis(\"#\" + \"ldavis_el125121397634339922886679500486\", ldavis_el125121397634339922886679500486_data);\n",
       "            })\n",
       "         });\n",
       "}\n",
       "</script>"
      ],
      "text/plain": [
       "<IPython.core.display.HTML object>"
      ]
     },
     "execution_count": 60,
     "metadata": {},
     "output_type": "execute_result"
    }
   ],
   "source": [
    "import pyLDAvis\n",
    "import pyLDAvis.lda_model\n",
    "vis_grid = pyLDAvis.lda_model.prepare(grid_best_model,features,tfidfVectorizer)\n",
    "pyLDAvis.enable_notebook()\n",
    "components_grid_display = pyLDAvis.display(vis_grid)\n",
    "components_grid_display"
   ]
  },
  {
   "cell_type": "code",
   "execution_count": 61,
   "id": "379eefbc-a315-4eaf-b770-383be8316f6d",
   "metadata": {},
   "outputs": [
    {
     "data": {
      "text/plain": [
       "dominant_topic_number\n",
       "0    401\n",
       "1    385\n",
       "2    366\n",
       "Name: count, dtype: int64"
      ]
     },
     "execution_count": 61,
     "metadata": {},
     "output_type": "execute_result"
    }
   ],
   "source": [
    "df_topics_score = pd.DataFrame(topics_output)\n",
    "df_topics_score['dominant_topic_number']=np.argmax(topics_output, axis=1)\n",
    "df_topics_score['dominant_topic_number'].value_counts()"
   ]
  },
  {
   "cell_type": "code",
   "execution_count": 62,
   "id": "251a62cc-102c-44da-9e78-a513d4b19089",
   "metadata": {},
   "outputs": [
    {
     "data": {
      "text/plain": [
       "0       2\n",
       "1       2\n",
       "2       0\n",
       "3       0\n",
       "4       1\n",
       "       ..\n",
       "1147    2\n",
       "1148    1\n",
       "1149    1\n",
       "1150    1\n",
       "1151    2\n",
       "Name: dominant_topic_number, Length: 1152, dtype: int64"
      ]
     },
     "execution_count": 62,
     "metadata": {},
     "output_type": "execute_result"
    }
   ],
   "source": [
    "df_topics_score['dominant_topic_number']"
   ]
  },
  {
   "cell_type": "markdown",
   "id": "acfc450f-e84a-4899-af35-c59c67c52f43",
   "metadata": {},
   "source": [
    "## 토픽 분석하기"
   ]
  },
  {
   "cell_type": "markdown",
   "id": "6433c7c4-b51b-40fc-8861-ee4cba688544",
   "metadata": {},
   "source": [
    "### topic별로 분류하기"
   ]
  },
  {
   "cell_type": "code",
   "execution_count": null,
   "id": "ea47c4b0-48ef-48f6-bb6e-6d1adfe20126",
   "metadata": {},
   "outputs": [],
   "source": [
    "FHP_article = FHP_article.reset_index()\n",
    "FHP_article.loc[:,'article_topic'] = df_topics_score['dominant_topic_number']"
   ]
  },
  {
   "cell_type": "code",
   "execution_count": null,
   "id": "f7dd1d95-523d-4ca7-96ac-c8784e7abe88",
   "metadata": {
    "scrolled": true
   },
   "outputs": [],
   "source": [
    "FHP_article.isnull().sum()"
   ]
  },
  {
   "cell_type": "markdown",
   "id": "c8246faa-4593-4066-942a-5253eec1a6b8",
   "metadata": {},
   "source": [
    "### topic 별 많이 등장하는 단어 추출"
   ]
  },
  {
   "cell_type": "code",
   "execution_count": null,
   "id": "bc5c4526-0365-491c-a75e-e2f94db86cb0",
   "metadata": {
    "scrolled": true
   },
   "outputs": [],
   "source": [
    "FHP_article.query(\"article_topic == 0\")"
   ]
  },
  {
   "cell_type": "code",
   "execution_count": null,
   "id": "8f34747d-3bf3-4464-a617-b52b1b16ab72",
   "metadata": {
    "scrolled": true
   },
   "outputs": [],
   "source": [
    "len(FHP_article.query(\"article_topic == 1\"))"
   ]
  },
  {
   "cell_type": "code",
   "execution_count": null,
   "id": "5f8cba80-7c54-4351-9485-d24628a681e5",
   "metadata": {
    "scrolled": true
   },
   "outputs": [],
   "source": [
    "FHP_article.query(\"article_topic == 2\")"
   ]
  },
  {
   "cell_type": "code",
   "execution_count": null,
   "id": "81afbd3b-a9e8-498f-9db5-17a034908fb8",
   "metadata": {},
   "outputs": [],
   "source": [
    "FHP_article.to_csv('FHP_article.csv',index=False,encoding='utf-8')"
   ]
  },
  {
   "cell_type": "markdown",
   "id": "94a7e7cf-21e7-454f-9657-3fffd3c6d94b",
   "metadata": {},
   "source": [
    "## 결론\n",
    "- 논문\n",
    "- 중복 논문을 삭제하고, 결측치를 제거하니 데이터가 1000개정도밖에 남지 않음\n",
    "- 다른 사이트로 다시 스크래핑 후 재시도"
   ]
  },
  {
   "cell_type": "markdown",
   "id": "b2344591-ebcf-458e-8f2b-a99e719cc221",
   "metadata": {},
   "source": [
    "### Count vectorizer"
   ]
  },
  {
   "cell_type": "code",
   "execution_count": null,
   "id": "6c41c4f6-99e0-4b9b-b156-14f31beb630f",
   "metadata": {},
   "outputs": [],
   "source": [
    "from sklearn.feature_extraction.text import CountVectorizer\n",
    "count_vect = CountVectorizer(stop_words=[], ngram_range=(1, 2))"
   ]
  },
  {
   "cell_type": "code",
   "execution_count": null,
   "id": "0360b73b-e026-4413-b87f-1d3bbfe27a84",
   "metadata": {
    "scrolled": true
   },
   "outputs": [],
   "source": [
    "FHP_article.query(\"article_topic == 2\")['abstract_join']"
   ]
  },
  {
   "cell_type": "code",
   "execution_count": null,
   "id": "c1ff84cf-57f8-4b94-92c8-c649fa5c0239",
   "metadata": {},
   "outputs": [],
   "source": [
    "count_vect.fit(FHP_article['abstract_join'])"
   ]
  },
  {
   "cell_type": "code",
   "execution_count": null,
   "id": "9a312373-c9b5-44f8-bb9c-94b2f63355bf",
   "metadata": {
    "scrolled": true
   },
   "outputs": [],
   "source": [
    "count_vect.vocabulary_"
   ]
  },
  {
   "cell_type": "code",
   "execution_count": null,
   "id": "d3f57cf4-bdff-4e31-95ab-dc827290fa6f",
   "metadata": {},
   "outputs": [],
   "source": [
    "dtm_topic_0 = count_vect.transform(FHP_article.query(\"article_topic == 0\")['abstract_join'])\n",
    "dtm_array_0 = dtm_topic_0.toarray()\n",
    "df_dtm_0 = pd.DataFrame(dtm_array_0, columns = vocabs)\n",
    "df_first_topic = df_dtm_0.sum().sort_values(ascending=False)[:20]\n",
    "df_first_topic = df_first_topic.reset_index()\n",
    "df_first_topic.rename(columns = {'index' : 'first'}, inplace = True)\n",
    "df_first_topic.rename(columns = {0 : 'count'}, inplace = True)"
   ]
  },
  {
   "cell_type": "code",
   "execution_count": null,
   "id": "77907ea6-233d-4933-bba0-31a243744aee",
   "metadata": {},
   "outputs": [],
   "source": [
    "dtm_topic_1 = count_vect.transform(FHP_article.query(\"article_topic == 1\")['abstract_join'])\n",
    "dtm_array_1 = dtm_topic_1.toarray()\n",
    "df_dtm_1 = pd.DataFrame(dtm_array_1, columns = vocabs)\n",
    "df_second_topic = df_dtm_1.sum().sort_values(ascending=False)[:20]\n",
    "df_second_topic = df_second_topic.reset_index()\n",
    "df_second_topic.rename(columns = {'index' : 'second'}, inplace = True)\n",
    "df_second_topic.rename(columns = {0 : 'count'}, inplace = True)"
   ]
  },
  {
   "cell_type": "code",
   "execution_count": null,
   "id": "f689ad21-ed68-43ae-a5f7-78678abab97b",
   "metadata": {},
   "outputs": [],
   "source": [
    "dtm_topic_2 = count_vect.transform(FHP_article.query(\"article_topic == 2\")['abstract_join'])\n",
    "dtm_array_2 = dtm_topic_2.toarray()\n",
    "df_dtm_2 = pd.DataFrame(dtm_array_2, columns = vocabs)\n",
    "df_third_topic = df_dtm_2.sum().sort_values(ascending=False)[:20]\n",
    "df_third_topic = df_third_topic.reset_index()\n",
    "df_third_topic.rename(columns = {'index' : 'third'}, inplace = True)\n",
    "df_third_topic.rename(columns = {0 : 'count'}, inplace = True)"
   ]
  },
  {
   "cell_type": "code",
   "execution_count": null,
   "id": "0c2780a2-79c0-48c4-8edd-108c05280416",
   "metadata": {},
   "outputs": [],
   "source": [
    "vocabs = count_vect.get_feature_names_out()\n",
    "vocabs[:2]\n",
    "vocabs.shape"
   ]
  },
  {
   "cell_type": "code",
   "execution_count": null,
   "id": "23a21a4f-4e4a-4704-a65e-c417b02b8350",
   "metadata": {},
   "outputs": [],
   "source": [
    "df_topic = pd.concat([df_first_topic,df_second_topic,df_third_topic],axis=1)"
   ]
  },
  {
   "cell_type": "code",
   "execution_count": null,
   "id": "6ebc013e-c353-4f0b-abaa-b41bb5748cd8",
   "metadata": {
    "scrolled": true
   },
   "outputs": [],
   "source": [
    "df_topic"
   ]
  },
  {
   "cell_type": "code",
   "execution_count": null,
   "id": "98f56b0d-bb37-444b-8d81-4d28332ba6a3",
   "metadata": {},
   "outputs": [],
   "source": []
  },
  {
   "cell_type": "code",
   "execution_count": null,
   "id": "f0c3c780-6849-48ef-af65-035b0cecd9dd",
   "metadata": {},
   "outputs": [],
   "source": []
  },
  {
   "cell_type": "code",
   "execution_count": null,
   "id": "be740c6b-b1d4-44a5-9239-3a205f9a201b",
   "metadata": {},
   "outputs": [],
   "source": []
  },
  {
   "cell_type": "code",
   "execution_count": null,
   "id": "1afd5df0-c73b-4479-b8a6-16b89ab10ad7",
   "metadata": {},
   "outputs": [],
   "source": []
  }
 ],
 "metadata": {
  "kernelspec": {
   "display_name": "Python 3 (ipykernel)",
   "language": "python",
   "name": "python3"
  },
  "language_info": {
   "codemirror_mode": {
    "name": "ipython",
    "version": 3
   },
   "file_extension": ".py",
   "mimetype": "text/x-python",
   "name": "python",
   "nbconvert_exporter": "python",
   "pygments_lexer": "ipython3",
   "version": "3.11.8"
  }
 },
 "nbformat": 4,
 "nbformat_minor": 5
}
